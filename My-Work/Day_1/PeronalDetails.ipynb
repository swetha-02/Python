{
 "cells": [
  {
   "cell_type": "code",
   "execution_count": 3,
   "metadata": {},
   "outputs": [
    {
     "name": "stdout",
     "output_type": "stream",
     "text": [
      "Swetha <class 'str'> 3032358846704\n",
      "Mangalore <class 'str'> 3032358336048\n",
      "21 <class 'int'> 140706046266424\n",
      "Chennai <class 'str'> 3032358854720\n",
      "Indian <class 'str'> 3032358854864\n",
      "Black <class 'str'> 3032314692928\n",
      "5.2 <class 'float'> 3032340409520\n",
      "Yamaha Rx100 <class 'str'> 3032359081392\n",
      "Book Reading <class 'str'> 3032359086896\n",
      "True <class 'bool'> 140706045470144\n"
     ]
    }
   ],
   "source": [
    "name=\"Swetha\"\n",
    "native=\"Mangalore\"\n",
    "age=21\n",
    "city=\"Chennai\"\n",
    "nationality=\"Indian\"\n",
    "favcolor=\"Black\"\n",
    "height=5.2\n",
    "favbike=\"Yamaha Rx100\"\n",
    "hobby=\"Book Reading\"\n",
    "female=True\n",
    "print(name,type(name),id(name))\n",
    "print(native, type(native),id(native))\n",
    "print(age, type(age),id(age))\n",
    "print(city, type(city),id(city))\n",
    "print(nationality, type(nationality),id(nationality))\n",
    "print(favcolor, type(favcolor),id(favcolor))\n",
    "print(height, type(height),id(height))\n",
    "print(favbike, type(favbike),id(favbike))\n",
    "print(hobby, type(hobby),id(hobby))\n",
    "print(female, type(female),id(female))\n"
   ]
  },
  {
   "cell_type": "code",
   "execution_count": 4,
   "metadata": {},
   "outputs": [
    {
     "name": "stdout",
     "output_type": "stream",
     "text": [
      "Swetha is 21 years old\n"
     ]
    }
   ],
   "source": [
    "name=\"Swetha\"\n",
    "age=21\n",
    "print(f\"{name} is {age} years old\")"
   ]
  }
 ],
 "metadata": {
  "kernelspec": {
   "display_name": "venv",
   "language": "python",
   "name": "python3"
  },
  "language_info": {
   "codemirror_mode": {
    "name": "ipython",
    "version": 3
   },
   "file_extension": ".py",
   "mimetype": "text/x-python",
   "name": "python",
   "nbconvert_exporter": "python",
   "pygments_lexer": "ipython3",
   "version": "3.12.0"
  }
 },
 "nbformat": 4,
 "nbformat_minor": 2
}
