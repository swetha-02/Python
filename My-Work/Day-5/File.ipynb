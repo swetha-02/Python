{
 "cells": [
  {
   "cell_type": "markdown",
   "metadata": {},
   "source": [
    "Pandas"
   ]
  },
  {
   "cell_type": "code",
   "execution_count": 2,
   "metadata": {},
   "outputs": [],
   "source": [
    "# pip install pandas"
   ]
  },
  {
   "cell_type": "code",
   "execution_count": 3,
   "metadata": {},
   "outputs": [],
   "source": [
    "import pandas as pd"
   ]
  },
  {
   "cell_type": "markdown",
   "metadata": {},
   "source": [
    "CSV-Read"
   ]
  },
  {
   "cell_type": "code",
   "execution_count": 4,
   "metadata": {},
   "outputs": [
    {
     "name": "stdout",
     "output_type": "stream",
     "text": [
      "{'total_bill': '16.99', 'tip': '1.01', 'sex': 'Female', 'smoker': 'No', 'day': 'Sun', 'time': 'Dinner', 'size': '2'}\n",
      "{'total_bill': '10.34', 'tip': '1.66', 'sex': 'Male', 'smoker': 'No', 'day': 'Sun', 'time': 'Dinner', 'size': '3'}\n",
      "{'total_bill': '21.01', 'tip': '3.5', 'sex': 'Male', 'smoker': 'No', 'day': 'Sun', 'time': 'Dinner', 'size': '3'}\n",
      "{'total_bill': '23.68', 'tip': '3.31', 'sex': 'Male', 'smoker': 'No', 'day': 'Sun', 'time': 'Dinner', 'size': '2'}\n",
      "{'total_bill': '24.59', 'tip': '3.61', 'sex': 'Female', 'smoker': 'No', 'day': 'Sun', 'time': 'Dinner', 'size': '4'}\n",
      "{'total_bill': '25.29', 'tip': '4.71', 'sex': 'Male', 'smoker': 'No', 'day': 'Sun', 'time': 'Dinner', 'size': '4'}\n",
      "{'total_bill': '8.77', 'tip': '2', 'sex': 'Male', 'smoker': 'No', 'day': 'Sun', 'time': 'Dinner', 'size': '2'}\n",
      "{'total_bill': '26.88', 'tip': '3.12', 'sex': 'Male', 'smoker': 'No', 'day': 'Sun', 'time': 'Dinner', 'size': '4'}\n",
      "{'total_bill': '15.04', 'tip': '1.96', 'sex': 'Male', 'smoker': 'No', 'day': 'Sun', 'time': 'Dinner', 'size': '2'}\n",
      "{'total_bill': '14.78', 'tip': '3.23', 'sex': 'Male', 'smoker': 'No', 'day': 'Sun', 'time': 'Dinner', 'size': '2'}\n",
      "{'total_bill': '10.27', 'tip': '1.71', 'sex': 'Male', 'smoker': 'No', 'day': 'Sun', 'time': 'Dinner', 'size': '2'}\n",
      "{'total_bill': '35.26', 'tip': '5', 'sex': 'Female', 'smoker': 'No', 'day': 'Sun', 'time': 'Dinner', 'size': '4'}\n",
      "{'total_bill': '15.42', 'tip': '1.57', 'sex': 'Male', 'smoker': 'No', 'day': 'Sun', 'time': 'Dinner', 'size': '2'}\n",
      "{'total_bill': '18.43', 'tip': '3', 'sex': 'Male', 'smoker': 'No', 'day': 'Sun', 'time': 'Dinner', 'size': '4'}\n",
      "{'total_bill': '14.83', 'tip': '3.02', 'sex': 'Female', 'smoker': 'No', 'day': 'Sun', 'time': 'Dinner', 'size': '2'}\n",
      "{'total_bill': '21.58', 'tip': '3.92', 'sex': 'Male', 'smoker': 'No', 'day': 'Sun', 'time': 'Dinner', 'size': '2'}\n",
      "{'total_bill': '10.33', 'tip': '1.67', 'sex': 'Female', 'smoker': 'No', 'day': 'Sun', 'time': 'Dinner', 'size': '3'}\n",
      "{'total_bill': '16.29', 'tip': '3.71', 'sex': 'Male', 'smoker': 'No', 'day': 'Sun', 'time': 'Dinner', 'size': '3'}\n",
      "{'total_bill': '16.97', 'tip': '3.5', 'sex': 'Female', 'smoker': 'No', 'day': 'Sun', 'time': 'Dinner', 'size': '3'}\n",
      "{'total_bill': '20.65', 'tip': '3.35', 'sex': 'Male', 'smoker': 'No', 'day': 'Sat', 'time': 'Dinner', 'size': '3'}\n",
      "{'total_bill': '17.92', 'tip': '4.08', 'sex': 'Male', 'smoker': 'No', 'day': 'Sat', 'time': 'Dinner', 'size': '2'}\n",
      "{'total_bill': '20.29', 'tip': '2.75', 'sex': 'Female', 'smoker': 'No', 'day': 'Sat', 'time': 'Dinner', 'size': '2'}\n",
      "{'total_bill': '15.77', 'tip': '2.23', 'sex': 'Female', 'smoker': 'No', 'day': 'Sat', 'time': 'Dinner', 'size': '2'}\n",
      "{'total_bill': '39.42', 'tip': '7.58', 'sex': 'Male', 'smoker': 'No', 'day': 'Sat', 'time': 'Dinner', 'size': '4'}\n",
      "{'total_bill': '19.82', 'tip': '3.18', 'sex': 'Male', 'smoker': 'No', 'day': 'Sat', 'time': 'Dinner', 'size': '2'}\n",
      "{'total_bill': '17.81', 'tip': '2.34', 'sex': 'Male', 'smoker': 'No', 'day': 'Sat', 'time': 'Dinner', 'size': '4'}\n",
      "{'total_bill': '13.37', 'tip': '2', 'sex': 'Male', 'smoker': 'No', 'day': 'Sat', 'time': 'Dinner', 'size': '2'}\n",
      "{'total_bill': '12.69', 'tip': '2', 'sex': 'Male', 'smoker': 'No', 'day': 'Sat', 'time': 'Dinner', 'size': '2'}\n",
      "{'total_bill': '21.7', 'tip': '4.3', 'sex': 'Male', 'smoker': 'No', 'day': 'Sat', 'time': 'Dinner', 'size': '2'}\n",
      "{'total_bill': '19.65', 'tip': '3', 'sex': 'Female', 'smoker': 'No', 'day': 'Sat', 'time': 'Dinner', 'size': '2'}\n",
      "{'total_bill': '9.55', 'tip': '1.45', 'sex': 'Male', 'smoker': 'No', 'day': 'Sat', 'time': 'Dinner', 'size': '2'}\n",
      "{'total_bill': '18.35', 'tip': '2.5', 'sex': 'Male', 'smoker': 'No', 'day': 'Sat', 'time': 'Dinner', 'size': '4'}\n",
      "{'total_bill': '15.06', 'tip': '3', 'sex': 'Female', 'smoker': 'No', 'day': 'Sat', 'time': 'Dinner', 'size': '2'}\n",
      "{'total_bill': '20.69', 'tip': '2.45', 'sex': 'Female', 'smoker': 'No', 'day': 'Sat', 'time': 'Dinner', 'size': '4'}\n",
      "{'total_bill': '17.78', 'tip': '3.27', 'sex': 'Male', 'smoker': 'No', 'day': 'Sat', 'time': 'Dinner', 'size': '2'}\n",
      "{'total_bill': '24.06', 'tip': '3.6', 'sex': 'Male', 'smoker': 'No', 'day': 'Sat', 'time': 'Dinner', 'size': '3'}\n",
      "{'total_bill': '16.31', 'tip': '2', 'sex': 'Male', 'smoker': 'No', 'day': 'Sat', 'time': 'Dinner', 'size': '3'}\n",
      "{'total_bill': '16.93', 'tip': '3.07', 'sex': 'Female', 'smoker': 'No', 'day': 'Sat', 'time': 'Dinner', 'size': '3'}\n",
      "{'total_bill': '18.69', 'tip': '2.31', 'sex': 'Male', 'smoker': 'No', 'day': 'Sat', 'time': 'Dinner', 'size': '3'}\n",
      "{'total_bill': '31.27', 'tip': '5', 'sex': 'Male', 'smoker': 'No', 'day': 'Sat', 'time': 'Dinner', 'size': '3'}\n",
      "{'total_bill': '16.04', 'tip': '2.24', 'sex': 'Male', 'smoker': 'No', 'day': 'Sat', 'time': 'Dinner', 'size': '3'}\n",
      "{'total_bill': '17.46', 'tip': '2.54', 'sex': 'Male', 'smoker': 'No', 'day': 'Sun', 'time': 'Dinner', 'size': '2'}\n",
      "{'total_bill': '13.94', 'tip': '3.06', 'sex': 'Male', 'smoker': 'No', 'day': 'Sun', 'time': 'Dinner', 'size': '2'}\n",
      "{'total_bill': '9.68', 'tip': '1.32', 'sex': 'Male', 'smoker': 'No', 'day': 'Sun', 'time': 'Dinner', 'size': '2'}\n",
      "{'total_bill': '30.4', 'tip': '5.6', 'sex': 'Male', 'smoker': 'No', 'day': 'Sun', 'time': 'Dinner', 'size': '4'}\n",
      "{'total_bill': '18.29', 'tip': '3', 'sex': 'Male', 'smoker': 'No', 'day': 'Sun', 'time': 'Dinner', 'size': '2'}\n",
      "{'total_bill': '22.23', 'tip': '5', 'sex': 'Male', 'smoker': 'No', 'day': 'Sun', 'time': 'Dinner', 'size': '2'}\n",
      "{'total_bill': '32.4', 'tip': '6', 'sex': 'Male', 'smoker': 'No', 'day': 'Sun', 'time': 'Dinner', 'size': '4'}\n",
      "{'total_bill': '28.55', 'tip': '2.05', 'sex': 'Male', 'smoker': 'No', 'day': 'Sun', 'time': 'Dinner', 'size': '3'}\n",
      "{'total_bill': '18.04', 'tip': '3', 'sex': 'Male', 'smoker': 'No', 'day': 'Sun', 'time': 'Dinner', 'size': '2'}\n",
      "{'total_bill': '12.54', 'tip': '2.5', 'sex': 'Male', 'smoker': 'No', 'day': 'Sun', 'time': 'Dinner', 'size': '2'}\n",
      "{'total_bill': '10.29', 'tip': '2.6', 'sex': 'Female', 'smoker': 'No', 'day': 'Sun', 'time': 'Dinner', 'size': '2'}\n",
      "{'total_bill': '34.81', 'tip': '5.2', 'sex': 'Female', 'smoker': 'No', 'day': 'Sun', 'time': 'Dinner', 'size': '4'}\n",
      "{'total_bill': '9.94', 'tip': '1.56', 'sex': 'Male', 'smoker': 'No', 'day': 'Sun', 'time': 'Dinner', 'size': '2'}\n",
      "{'total_bill': '25.56', 'tip': '4.34', 'sex': 'Male', 'smoker': 'No', 'day': 'Sun', 'time': 'Dinner', 'size': '4'}\n",
      "{'total_bill': '19.49', 'tip': '3.51', 'sex': 'Male', 'smoker': 'No', 'day': 'Sun', 'time': 'Dinner', 'size': '2'}\n",
      "{'total_bill': '38.01', 'tip': '3', 'sex': 'Male', 'smoker': 'Yes', 'day': 'Sat', 'time': 'Dinner', 'size': '4'}\n",
      "{'total_bill': '26.41', 'tip': '1.5', 'sex': 'Female', 'smoker': 'No', 'day': 'Sat', 'time': 'Dinner', 'size': '2'}\n",
      "{'total_bill': '11.24', 'tip': '1.76', 'sex': 'Male', 'smoker': 'Yes', 'day': 'Sat', 'time': 'Dinner', 'size': '2'}\n",
      "{'total_bill': '48.27', 'tip': '6.73', 'sex': 'Male', 'smoker': 'No', 'day': 'Sat', 'time': 'Dinner', 'size': '4'}\n",
      "{'total_bill': '20.29', 'tip': '3.21', 'sex': 'Male', 'smoker': 'Yes', 'day': 'Sat', 'time': 'Dinner', 'size': '2'}\n",
      "{'total_bill': '13.81', 'tip': '2', 'sex': 'Male', 'smoker': 'Yes', 'day': 'Sat', 'time': 'Dinner', 'size': '2'}\n",
      "{'total_bill': '11.02', 'tip': '1.98', 'sex': 'Male', 'smoker': 'Yes', 'day': 'Sat', 'time': 'Dinner', 'size': '2'}\n",
      "{'total_bill': '18.29', 'tip': '3.76', 'sex': 'Male', 'smoker': 'Yes', 'day': 'Sat', 'time': 'Dinner', 'size': '4'}\n",
      "{'total_bill': '17.59', 'tip': '2.64', 'sex': 'Male', 'smoker': 'No', 'day': 'Sat', 'time': 'Dinner', 'size': '3'}\n",
      "{'total_bill': '20.08', 'tip': '3.15', 'sex': 'Male', 'smoker': 'No', 'day': 'Sat', 'time': 'Dinner', 'size': '3'}\n",
      "{'total_bill': '16.45', 'tip': '2.47', 'sex': 'Female', 'smoker': 'No', 'day': 'Sat', 'time': 'Dinner', 'size': '2'}\n",
      "{'total_bill': '3.07', 'tip': '1', 'sex': 'Female', 'smoker': 'Yes', 'day': 'Sat', 'time': 'Dinner', 'size': '1'}\n",
      "{'total_bill': '20.23', 'tip': '2.01', 'sex': 'Male', 'smoker': 'No', 'day': 'Sat', 'time': 'Dinner', 'size': '2'}\n",
      "{'total_bill': '15.01', 'tip': '2.09', 'sex': 'Male', 'smoker': 'Yes', 'day': 'Sat', 'time': 'Dinner', 'size': '2'}\n",
      "{'total_bill': '12.02', 'tip': '1.97', 'sex': 'Male', 'smoker': 'No', 'day': 'Sat', 'time': 'Dinner', 'size': '2'}\n",
      "{'total_bill': '17.07', 'tip': '3', 'sex': 'Female', 'smoker': 'No', 'day': 'Sat', 'time': 'Dinner', 'size': '3'}\n",
      "{'total_bill': '26.86', 'tip': '3.14', 'sex': 'Female', 'smoker': 'Yes', 'day': 'Sat', 'time': 'Dinner', 'size': '2'}\n",
      "{'total_bill': '25.28', 'tip': '5', 'sex': 'Female', 'smoker': 'Yes', 'day': 'Sat', 'time': 'Dinner', 'size': '2'}\n",
      "{'total_bill': '14.73', 'tip': '2.2', 'sex': 'Female', 'smoker': 'No', 'day': 'Sat', 'time': 'Dinner', 'size': '2'}\n",
      "{'total_bill': '10.51', 'tip': '1.25', 'sex': 'Male', 'smoker': 'No', 'day': 'Sat', 'time': 'Dinner', 'size': '2'}\n",
      "{'total_bill': '17.92', 'tip': '3.08', 'sex': 'Male', 'smoker': 'Yes', 'day': 'Sat', 'time': 'Dinner', 'size': '2'}\n",
      "{'total_bill': '27.2', 'tip': '4', 'sex': 'Male', 'smoker': 'No', 'day': 'Thur', 'time': 'Lunch', 'size': '4'}\n",
      "{'total_bill': '22.76', 'tip': '3', 'sex': 'Male', 'smoker': 'No', 'day': 'Thur', 'time': 'Lunch', 'size': '2'}\n",
      "{'total_bill': '17.29', 'tip': '2.71', 'sex': 'Male', 'smoker': 'No', 'day': 'Thur', 'time': 'Lunch', 'size': '2'}\n",
      "{'total_bill': '19.44', 'tip': '3', 'sex': 'Male', 'smoker': 'Yes', 'day': 'Thur', 'time': 'Lunch', 'size': '2'}\n",
      "{'total_bill': '16.66', 'tip': '3.4', 'sex': 'Male', 'smoker': 'No', 'day': 'Thur', 'time': 'Lunch', 'size': '2'}\n",
      "{'total_bill': '10.07', 'tip': '1.83', 'sex': 'Female', 'smoker': 'No', 'day': 'Thur', 'time': 'Lunch', 'size': '1'}\n",
      "{'total_bill': '32.68', 'tip': '5', 'sex': 'Male', 'smoker': 'Yes', 'day': 'Thur', 'time': 'Lunch', 'size': '2'}\n",
      "{'total_bill': '15.98', 'tip': '2.03', 'sex': 'Male', 'smoker': 'No', 'day': 'Thur', 'time': 'Lunch', 'size': '2'}\n",
      "{'total_bill': '34.83', 'tip': '5.17', 'sex': 'Female', 'smoker': 'No', 'day': 'Thur', 'time': 'Lunch', 'size': '4'}\n",
      "{'total_bill': '13.03', 'tip': '2', 'sex': 'Male', 'smoker': 'No', 'day': 'Thur', 'time': 'Lunch', 'size': '2'}\n",
      "{'total_bill': '18.28', 'tip': '4', 'sex': 'Male', 'smoker': 'No', 'day': 'Thur', 'time': 'Lunch', 'size': '2'}\n",
      "{'total_bill': '24.71', 'tip': '5.85', 'sex': 'Male', 'smoker': 'No', 'day': 'Thur', 'time': 'Lunch', 'size': '2'}\n",
      "{'total_bill': '21.16', 'tip': '3', 'sex': 'Male', 'smoker': 'No', 'day': 'Thur', 'time': 'Lunch', 'size': '2'}\n",
      "{'total_bill': '28.97', 'tip': '3', 'sex': 'Male', 'smoker': 'Yes', 'day': 'Fri', 'time': 'Dinner', 'size': '2'}\n",
      "{'total_bill': '22.49', 'tip': '3.5', 'sex': 'Male', 'smoker': 'No', 'day': 'Fri', 'time': 'Dinner', 'size': '2'}\n",
      "{'total_bill': '5.75', 'tip': '1', 'sex': 'Female', 'smoker': 'Yes', 'day': 'Fri', 'time': 'Dinner', 'size': '2'}\n",
      "{'total_bill': '16.32', 'tip': '4.3', 'sex': 'Female', 'smoker': 'Yes', 'day': 'Fri', 'time': 'Dinner', 'size': '2'}\n",
      "{'total_bill': '22.75', 'tip': '3.25', 'sex': 'Female', 'smoker': 'No', 'day': 'Fri', 'time': 'Dinner', 'size': '2'}\n",
      "{'total_bill': '40.17', 'tip': '4.73', 'sex': 'Male', 'smoker': 'Yes', 'day': 'Fri', 'time': 'Dinner', 'size': '4'}\n",
      "{'total_bill': '27.28', 'tip': '4', 'sex': 'Male', 'smoker': 'Yes', 'day': 'Fri', 'time': 'Dinner', 'size': '2'}\n",
      "{'total_bill': '12.03', 'tip': '1.5', 'sex': 'Male', 'smoker': 'Yes', 'day': 'Fri', 'time': 'Dinner', 'size': '2'}\n",
      "{'total_bill': '21.01', 'tip': '3', 'sex': 'Male', 'smoker': 'Yes', 'day': 'Fri', 'time': 'Dinner', 'size': '2'}\n",
      "{'total_bill': '12.46', 'tip': '1.5', 'sex': 'Male', 'smoker': 'No', 'day': 'Fri', 'time': 'Dinner', 'size': '2'}\n",
      "{'total_bill': '11.35', 'tip': '2.5', 'sex': 'Female', 'smoker': 'Yes', 'day': 'Fri', 'time': 'Dinner', 'size': '2'}\n",
      "{'total_bill': '15.38', 'tip': '3', 'sex': 'Female', 'smoker': 'Yes', 'day': 'Fri', 'time': 'Dinner', 'size': '2'}\n",
      "{'total_bill': '44.3', 'tip': '2.5', 'sex': 'Female', 'smoker': 'Yes', 'day': 'Sat', 'time': 'Dinner', 'size': '3'}\n",
      "{'total_bill': '22.42', 'tip': '3.48', 'sex': 'Female', 'smoker': 'Yes', 'day': 'Sat', 'time': 'Dinner', 'size': '2'}\n",
      "{'total_bill': '20.92', 'tip': '4.08', 'sex': 'Female', 'smoker': 'No', 'day': 'Sat', 'time': 'Dinner', 'size': '2'}\n",
      "{'total_bill': '15.36', 'tip': '1.64', 'sex': 'Male', 'smoker': 'Yes', 'day': 'Sat', 'time': 'Dinner', 'size': '2'}\n",
      "{'total_bill': '20.49', 'tip': '4.06', 'sex': 'Male', 'smoker': 'Yes', 'day': 'Sat', 'time': 'Dinner', 'size': '2'}\n",
      "{'total_bill': '25.21', 'tip': '4.29', 'sex': 'Male', 'smoker': 'Yes', 'day': 'Sat', 'time': 'Dinner', 'size': '2'}\n",
      "{'total_bill': '18.24', 'tip': '3.76', 'sex': 'Male', 'smoker': 'No', 'day': 'Sat', 'time': 'Dinner', 'size': '2'}\n",
      "{'total_bill': '14.31', 'tip': '4', 'sex': 'Female', 'smoker': 'Yes', 'day': 'Sat', 'time': 'Dinner', 'size': '2'}\n",
      "{'total_bill': '14', 'tip': '3', 'sex': 'Male', 'smoker': 'No', 'day': 'Sat', 'time': 'Dinner', 'size': '2'}\n",
      "{'total_bill': '7.25', 'tip': '1', 'sex': 'Female', 'smoker': 'No', 'day': 'Sat', 'time': 'Dinner', 'size': '1'}\n",
      "{'total_bill': '38.07', 'tip': '4', 'sex': 'Male', 'smoker': 'No', 'day': 'Sun', 'time': 'Dinner', 'size': '3'}\n",
      "{'total_bill': '23.95', 'tip': '2.55', 'sex': 'Male', 'smoker': 'No', 'day': 'Sun', 'time': 'Dinner', 'size': '2'}\n",
      "{'total_bill': '25.71', 'tip': '4', 'sex': 'Female', 'smoker': 'No', 'day': 'Sun', 'time': 'Dinner', 'size': '3'}\n",
      "{'total_bill': '17.31', 'tip': '3.5', 'sex': 'Female', 'smoker': 'No', 'day': 'Sun', 'time': 'Dinner', 'size': '2'}\n",
      "{'total_bill': '29.93', 'tip': '5.07', 'sex': 'Male', 'smoker': 'No', 'day': 'Sun', 'time': 'Dinner', 'size': '4'}\n",
      "{'total_bill': '10.65', 'tip': '1.5', 'sex': 'Female', 'smoker': 'No', 'day': 'Thur', 'time': 'Lunch', 'size': '2'}\n",
      "{'total_bill': '12.43', 'tip': '1.8', 'sex': 'Female', 'smoker': 'No', 'day': 'Thur', 'time': 'Lunch', 'size': '2'}\n",
      "{'total_bill': '24.08', 'tip': '2.92', 'sex': 'Female', 'smoker': 'No', 'day': 'Thur', 'time': 'Lunch', 'size': '4'}\n",
      "{'total_bill': '11.69', 'tip': '2.31', 'sex': 'Male', 'smoker': 'No', 'day': 'Thur', 'time': 'Lunch', 'size': '2'}\n",
      "{'total_bill': '13.42', 'tip': '1.68', 'sex': 'Female', 'smoker': 'No', 'day': 'Thur', 'time': 'Lunch', 'size': '2'}\n",
      "{'total_bill': '14.26', 'tip': '2.5', 'sex': 'Male', 'smoker': 'No', 'day': 'Thur', 'time': 'Lunch', 'size': '2'}\n",
      "{'total_bill': '15.95', 'tip': '2', 'sex': 'Male', 'smoker': 'No', 'day': 'Thur', 'time': 'Lunch', 'size': '2'}\n",
      "{'total_bill': '12.48', 'tip': '2.52', 'sex': 'Female', 'smoker': 'No', 'day': 'Thur', 'time': 'Lunch', 'size': '2'}\n",
      "{'total_bill': '29.8', 'tip': '4.2', 'sex': 'Female', 'smoker': 'No', 'day': 'Thur', 'time': 'Lunch', 'size': '6'}\n",
      "{'total_bill': '8.52', 'tip': '1.48', 'sex': 'Male', 'smoker': 'No', 'day': 'Thur', 'time': 'Lunch', 'size': '2'}\n",
      "{'total_bill': '14.52', 'tip': '2', 'sex': 'Female', 'smoker': 'No', 'day': 'Thur', 'time': 'Lunch', 'size': '2'}\n",
      "{'total_bill': '11.38', 'tip': '2', 'sex': 'Female', 'smoker': 'No', 'day': 'Thur', 'time': 'Lunch', 'size': '2'}\n",
      "{'total_bill': '22.82', 'tip': '2.18', 'sex': 'Male', 'smoker': 'No', 'day': 'Thur', 'time': 'Lunch', 'size': '3'}\n",
      "{'total_bill': '19.08', 'tip': '1.5', 'sex': 'Male', 'smoker': 'No', 'day': 'Thur', 'time': 'Lunch', 'size': '2'}\n",
      "{'total_bill': '20.27', 'tip': '2.83', 'sex': 'Female', 'smoker': 'No', 'day': 'Thur', 'time': 'Lunch', 'size': '2'}\n",
      "{'total_bill': '11.17', 'tip': '1.5', 'sex': 'Female', 'smoker': 'No', 'day': 'Thur', 'time': 'Lunch', 'size': '2'}\n",
      "{'total_bill': '12.26', 'tip': '2', 'sex': 'Female', 'smoker': 'No', 'day': 'Thur', 'time': 'Lunch', 'size': '2'}\n",
      "{'total_bill': '18.26', 'tip': '3.25', 'sex': 'Female', 'smoker': 'No', 'day': 'Thur', 'time': 'Lunch', 'size': '2'}\n",
      "{'total_bill': '8.51', 'tip': '1.25', 'sex': 'Female', 'smoker': 'No', 'day': 'Thur', 'time': 'Lunch', 'size': '2'}\n",
      "{'total_bill': '10.33', 'tip': '2', 'sex': 'Female', 'smoker': 'No', 'day': 'Thur', 'time': 'Lunch', 'size': '2'}\n",
      "{'total_bill': '14.15', 'tip': '2', 'sex': 'Female', 'smoker': 'No', 'day': 'Thur', 'time': 'Lunch', 'size': '2'}\n",
      "{'total_bill': '16', 'tip': '2', 'sex': 'Male', 'smoker': 'Yes', 'day': 'Thur', 'time': 'Lunch', 'size': '2'}\n",
      "{'total_bill': '13.16', 'tip': '2.75', 'sex': 'Female', 'smoker': 'No', 'day': 'Thur', 'time': 'Lunch', 'size': '2'}\n",
      "{'total_bill': '17.47', 'tip': '3.5', 'sex': 'Female', 'smoker': 'No', 'day': 'Thur', 'time': 'Lunch', 'size': '2'}\n",
      "{'total_bill': '34.3', 'tip': '6.7', 'sex': 'Male', 'smoker': 'No', 'day': 'Thur', 'time': 'Lunch', 'size': '6'}\n",
      "{'total_bill': '41.19', 'tip': '5', 'sex': 'Male', 'smoker': 'No', 'day': 'Thur', 'time': 'Lunch', 'size': '5'}\n",
      "{'total_bill': '27.05', 'tip': '5', 'sex': 'Female', 'smoker': 'No', 'day': 'Thur', 'time': 'Lunch', 'size': '6'}\n",
      "{'total_bill': '16.43', 'tip': '2.3', 'sex': 'Female', 'smoker': 'No', 'day': 'Thur', 'time': 'Lunch', 'size': '2'}\n",
      "{'total_bill': '8.35', 'tip': '1.5', 'sex': 'Female', 'smoker': 'No', 'day': 'Thur', 'time': 'Lunch', 'size': '2'}\n",
      "{'total_bill': '18.64', 'tip': '1.36', 'sex': 'Female', 'smoker': 'No', 'day': 'Thur', 'time': 'Lunch', 'size': '3'}\n",
      "{'total_bill': '11.87', 'tip': '1.63', 'sex': 'Female', 'smoker': 'No', 'day': 'Thur', 'time': 'Lunch', 'size': '2'}\n",
      "{'total_bill': '9.78', 'tip': '1.73', 'sex': 'Male', 'smoker': 'No', 'day': 'Thur', 'time': 'Lunch', 'size': '2'}\n",
      "{'total_bill': '7.51', 'tip': '2', 'sex': 'Male', 'smoker': 'No', 'day': 'Thur', 'time': 'Lunch', 'size': '2'}\n",
      "{'total_bill': '14.07', 'tip': '2.5', 'sex': 'Male', 'smoker': 'No', 'day': 'Sun', 'time': 'Dinner', 'size': '2'}\n",
      "{'total_bill': '13.13', 'tip': '2', 'sex': 'Male', 'smoker': 'No', 'day': 'Sun', 'time': 'Dinner', 'size': '2'}\n",
      "{'total_bill': '17.26', 'tip': '2.74', 'sex': 'Male', 'smoker': 'No', 'day': 'Sun', 'time': 'Dinner', 'size': '3'}\n",
      "{'total_bill': '24.55', 'tip': '2', 'sex': 'Male', 'smoker': 'No', 'day': 'Sun', 'time': 'Dinner', 'size': '4'}\n",
      "{'total_bill': '19.77', 'tip': '2', 'sex': 'Male', 'smoker': 'No', 'day': 'Sun', 'time': 'Dinner', 'size': '4'}\n",
      "{'total_bill': '29.85', 'tip': '5.14', 'sex': 'Female', 'smoker': 'No', 'day': 'Sun', 'time': 'Dinner', 'size': '5'}\n",
      "{'total_bill': '48.17', 'tip': '5', 'sex': 'Male', 'smoker': 'No', 'day': 'Sun', 'time': 'Dinner', 'size': '6'}\n",
      "{'total_bill': '25', 'tip': '3.75', 'sex': 'Female', 'smoker': 'No', 'day': 'Sun', 'time': 'Dinner', 'size': '4'}\n",
      "{'total_bill': '13.39', 'tip': '2.61', 'sex': 'Female', 'smoker': 'No', 'day': 'Sun', 'time': 'Dinner', 'size': '2'}\n",
      "{'total_bill': '16.49', 'tip': '2', 'sex': 'Male', 'smoker': 'No', 'day': 'Sun', 'time': 'Dinner', 'size': '4'}\n",
      "{'total_bill': '21.5', 'tip': '3.5', 'sex': 'Male', 'smoker': 'No', 'day': 'Sun', 'time': 'Dinner', 'size': '4'}\n",
      "{'total_bill': '12.66', 'tip': '2.5', 'sex': 'Male', 'smoker': 'No', 'day': 'Sun', 'time': 'Dinner', 'size': '2'}\n",
      "{'total_bill': '16.21', 'tip': '2', 'sex': 'Female', 'smoker': 'No', 'day': 'Sun', 'time': 'Dinner', 'size': '3'}\n",
      "{'total_bill': '13.81', 'tip': '2', 'sex': 'Male', 'smoker': 'No', 'day': 'Sun', 'time': 'Dinner', 'size': '2'}\n",
      "{'total_bill': '17.51', 'tip': '3', 'sex': 'Female', 'smoker': 'Yes', 'day': 'Sun', 'time': 'Dinner', 'size': '2'}\n",
      "{'total_bill': '24.52', 'tip': '3.48', 'sex': 'Male', 'smoker': 'No', 'day': 'Sun', 'time': 'Dinner', 'size': '3'}\n",
      "{'total_bill': '20.76', 'tip': '2.24', 'sex': 'Male', 'smoker': 'No', 'day': 'Sun', 'time': 'Dinner', 'size': '2'}\n",
      "{'total_bill': '31.71', 'tip': '4.5', 'sex': 'Male', 'smoker': 'No', 'day': 'Sun', 'time': 'Dinner', 'size': '4'}\n",
      "{'total_bill': '10.59', 'tip': '1.61', 'sex': 'Female', 'smoker': 'Yes', 'day': 'Sat', 'time': 'Dinner', 'size': '2'}\n",
      "{'total_bill': '10.63', 'tip': '2', 'sex': 'Female', 'smoker': 'Yes', 'day': 'Sat', 'time': 'Dinner', 'size': '2'}\n",
      "{'total_bill': '50.81', 'tip': '10', 'sex': 'Male', 'smoker': 'Yes', 'day': 'Sat', 'time': 'Dinner', 'size': '3'}\n",
      "{'total_bill': '15.81', 'tip': '3.16', 'sex': 'Male', 'smoker': 'Yes', 'day': 'Sat', 'time': 'Dinner', 'size': '2'}\n",
      "{'total_bill': '7.25', 'tip': '5.15', 'sex': 'Male', 'smoker': 'Yes', 'day': 'Sun', 'time': 'Dinner', 'size': '2'}\n",
      "{'total_bill': '31.85', 'tip': '3.18', 'sex': 'Male', 'smoker': 'Yes', 'day': 'Sun', 'time': 'Dinner', 'size': '2'}\n",
      "{'total_bill': '16.82', 'tip': '4', 'sex': 'Male', 'smoker': 'Yes', 'day': 'Sun', 'time': 'Dinner', 'size': '2'}\n",
      "{'total_bill': '32.9', 'tip': '3.11', 'sex': 'Male', 'smoker': 'Yes', 'day': 'Sun', 'time': 'Dinner', 'size': '2'}\n",
      "{'total_bill': '17.89', 'tip': '2', 'sex': 'Male', 'smoker': 'Yes', 'day': 'Sun', 'time': 'Dinner', 'size': '2'}\n",
      "{'total_bill': '14.48', 'tip': '2', 'sex': 'Male', 'smoker': 'Yes', 'day': 'Sun', 'time': 'Dinner', 'size': '2'}\n",
      "{'total_bill': '9.6', 'tip': '4', 'sex': 'Female', 'smoker': 'Yes', 'day': 'Sun', 'time': 'Dinner', 'size': '2'}\n",
      "{'total_bill': '34.63', 'tip': '3.55', 'sex': 'Male', 'smoker': 'Yes', 'day': 'Sun', 'time': 'Dinner', 'size': '2'}\n",
      "{'total_bill': '34.65', 'tip': '3.68', 'sex': 'Male', 'smoker': 'Yes', 'day': 'Sun', 'time': 'Dinner', 'size': '4'}\n",
      "{'total_bill': '23.33', 'tip': '5.65', 'sex': 'Male', 'smoker': 'Yes', 'day': 'Sun', 'time': 'Dinner', 'size': '2'}\n",
      "{'total_bill': '45.35', 'tip': '3.5', 'sex': 'Male', 'smoker': 'Yes', 'day': 'Sun', 'time': 'Dinner', 'size': '3'}\n",
      "{'total_bill': '23.17', 'tip': '6.5', 'sex': 'Male', 'smoker': 'Yes', 'day': 'Sun', 'time': 'Dinner', 'size': '4'}\n",
      "{'total_bill': '40.55', 'tip': '3', 'sex': 'Male', 'smoker': 'Yes', 'day': 'Sun', 'time': 'Dinner', 'size': '2'}\n",
      "{'total_bill': '20.69', 'tip': '5', 'sex': 'Male', 'smoker': 'No', 'day': 'Sun', 'time': 'Dinner', 'size': '5'}\n",
      "{'total_bill': '20.9', 'tip': '3.5', 'sex': 'Female', 'smoker': 'Yes', 'day': 'Sun', 'time': 'Dinner', 'size': '3'}\n",
      "{'total_bill': '30.46', 'tip': '2', 'sex': 'Male', 'smoker': 'Yes', 'day': 'Sun', 'time': 'Dinner', 'size': '5'}\n",
      "{'total_bill': '18.15', 'tip': '3.5', 'sex': 'Female', 'smoker': 'Yes', 'day': 'Sun', 'time': 'Dinner', 'size': '3'}\n",
      "{'total_bill': '23.1', 'tip': '4', 'sex': 'Male', 'smoker': 'Yes', 'day': 'Sun', 'time': 'Dinner', 'size': '3'}\n",
      "{'total_bill': '15.69', 'tip': '1.5', 'sex': 'Male', 'smoker': 'Yes', 'day': 'Sun', 'time': 'Dinner', 'size': '2'}\n",
      "{'total_bill': '19.81', 'tip': '4.19', 'sex': 'Female', 'smoker': 'Yes', 'day': 'Thur', 'time': 'Lunch', 'size': '2'}\n",
      "{'total_bill': '28.44', 'tip': '2.56', 'sex': 'Male', 'smoker': 'Yes', 'day': 'Thur', 'time': 'Lunch', 'size': '2'}\n",
      "{'total_bill': '15.48', 'tip': '2.02', 'sex': 'Male', 'smoker': 'Yes', 'day': 'Thur', 'time': 'Lunch', 'size': '2'}\n",
      "{'total_bill': '16.58', 'tip': '4', 'sex': 'Male', 'smoker': 'Yes', 'day': 'Thur', 'time': 'Lunch', 'size': '2'}\n",
      "{'total_bill': '7.56', 'tip': '1.44', 'sex': 'Male', 'smoker': 'No', 'day': 'Thur', 'time': 'Lunch', 'size': '2'}\n",
      "{'total_bill': '10.34', 'tip': '2', 'sex': 'Male', 'smoker': 'Yes', 'day': 'Thur', 'time': 'Lunch', 'size': '2'}\n",
      "{'total_bill': '43.11', 'tip': '5', 'sex': 'Female', 'smoker': 'Yes', 'day': 'Thur', 'time': 'Lunch', 'size': '4'}\n",
      "{'total_bill': '13', 'tip': '2', 'sex': 'Female', 'smoker': 'Yes', 'day': 'Thur', 'time': 'Lunch', 'size': '2'}\n",
      "{'total_bill': '13.51', 'tip': '2', 'sex': 'Male', 'smoker': 'Yes', 'day': 'Thur', 'time': 'Lunch', 'size': '2'}\n",
      "{'total_bill': '18.71', 'tip': '4', 'sex': 'Male', 'smoker': 'Yes', 'day': 'Thur', 'time': 'Lunch', 'size': '3'}\n",
      "{'total_bill': '12.74', 'tip': '2.01', 'sex': 'Female', 'smoker': 'Yes', 'day': 'Thur', 'time': 'Lunch', 'size': '2'}\n",
      "{'total_bill': '13', 'tip': '2', 'sex': 'Female', 'smoker': 'Yes', 'day': 'Thur', 'time': 'Lunch', 'size': '2'}\n",
      "{'total_bill': '16.4', 'tip': '2.5', 'sex': 'Female', 'smoker': 'Yes', 'day': 'Thur', 'time': 'Lunch', 'size': '2'}\n",
      "{'total_bill': '20.53', 'tip': '4', 'sex': 'Male', 'smoker': 'Yes', 'day': 'Thur', 'time': 'Lunch', 'size': '4'}\n",
      "{'total_bill': '16.47', 'tip': '3.23', 'sex': 'Female', 'smoker': 'Yes', 'day': 'Thur', 'time': 'Lunch', 'size': '3'}\n",
      "{'total_bill': '26.59', 'tip': '3.41', 'sex': 'Male', 'smoker': 'Yes', 'day': 'Sat', 'time': 'Dinner', 'size': '3'}\n",
      "{'total_bill': '38.73', 'tip': '3', 'sex': 'Male', 'smoker': 'Yes', 'day': 'Sat', 'time': 'Dinner', 'size': '4'}\n",
      "{'total_bill': '24.27', 'tip': '2.03', 'sex': 'Male', 'smoker': 'Yes', 'day': 'Sat', 'time': 'Dinner', 'size': '2'}\n",
      "{'total_bill': '12.76', 'tip': '2.23', 'sex': 'Female', 'smoker': 'Yes', 'day': 'Sat', 'time': 'Dinner', 'size': '2'}\n",
      "{'total_bill': '30.06', 'tip': '2', 'sex': 'Male', 'smoker': 'Yes', 'day': 'Sat', 'time': 'Dinner', 'size': '3'}\n",
      "{'total_bill': '25.89', 'tip': '5.16', 'sex': 'Male', 'smoker': 'Yes', 'day': 'Sat', 'time': 'Dinner', 'size': '4'}\n",
      "{'total_bill': '48.33', 'tip': '9', 'sex': 'Male', 'smoker': 'No', 'day': 'Sat', 'time': 'Dinner', 'size': '4'}\n",
      "{'total_bill': '13.27', 'tip': '2.5', 'sex': 'Female', 'smoker': 'Yes', 'day': 'Sat', 'time': 'Dinner', 'size': '2'}\n",
      "{'total_bill': '28.17', 'tip': '6.5', 'sex': 'Female', 'smoker': 'Yes', 'day': 'Sat', 'time': 'Dinner', 'size': '3'}\n",
      "{'total_bill': '12.9', 'tip': '1.1', 'sex': 'Female', 'smoker': 'Yes', 'day': 'Sat', 'time': 'Dinner', 'size': '2'}\n",
      "{'total_bill': '28.15', 'tip': '3', 'sex': 'Male', 'smoker': 'Yes', 'day': 'Sat', 'time': 'Dinner', 'size': '5'}\n",
      "{'total_bill': '11.59', 'tip': '1.5', 'sex': 'Male', 'smoker': 'Yes', 'day': 'Sat', 'time': 'Dinner', 'size': '2'}\n",
      "{'total_bill': '7.74', 'tip': '1.44', 'sex': 'Male', 'smoker': 'Yes', 'day': 'Sat', 'time': 'Dinner', 'size': '2'}\n",
      "{'total_bill': '30.14', 'tip': '3.09', 'sex': 'Female', 'smoker': 'Yes', 'day': 'Sat', 'time': 'Dinner', 'size': '4'}\n",
      "{'total_bill': '12.16', 'tip': '2.2', 'sex': 'Male', 'smoker': 'Yes', 'day': 'Fri', 'time': 'Lunch', 'size': '2'}\n",
      "{'total_bill': '13.42', 'tip': '3.48', 'sex': 'Female', 'smoker': 'Yes', 'day': 'Fri', 'time': 'Lunch', 'size': '2'}\n",
      "{'total_bill': '8.58', 'tip': '1.92', 'sex': 'Male', 'smoker': 'Yes', 'day': 'Fri', 'time': 'Lunch', 'size': '1'}\n",
      "{'total_bill': '15.98', 'tip': '3', 'sex': 'Female', 'smoker': 'No', 'day': 'Fri', 'time': 'Lunch', 'size': '3'}\n",
      "{'total_bill': '13.42', 'tip': '1.58', 'sex': 'Male', 'smoker': 'Yes', 'day': 'Fri', 'time': 'Lunch', 'size': '2'}\n",
      "{'total_bill': '16.27', 'tip': '2.5', 'sex': 'Female', 'smoker': 'Yes', 'day': 'Fri', 'time': 'Lunch', 'size': '2'}\n",
      "{'total_bill': '10.09', 'tip': '2', 'sex': 'Female', 'smoker': 'Yes', 'day': 'Fri', 'time': 'Lunch', 'size': '2'}\n",
      "{'total_bill': '20.45', 'tip': '3', 'sex': 'Male', 'smoker': 'No', 'day': 'Sat', 'time': 'Dinner', 'size': '4'}\n",
      "{'total_bill': '13.28', 'tip': '2.72', 'sex': 'Male', 'smoker': 'No', 'day': 'Sat', 'time': 'Dinner', 'size': '2'}\n",
      "{'total_bill': '22.12', 'tip': '2.88', 'sex': 'Female', 'smoker': 'Yes', 'day': 'Sat', 'time': 'Dinner', 'size': '2'}\n",
      "{'total_bill': '24.01', 'tip': '2', 'sex': 'Male', 'smoker': 'Yes', 'day': 'Sat', 'time': 'Dinner', 'size': '4'}\n",
      "{'total_bill': '15.69', 'tip': '3', 'sex': 'Male', 'smoker': 'Yes', 'day': 'Sat', 'time': 'Dinner', 'size': '3'}\n",
      "{'total_bill': '11.61', 'tip': '3.39', 'sex': 'Male', 'smoker': 'No', 'day': 'Sat', 'time': 'Dinner', 'size': '2'}\n",
      "{'total_bill': '10.77', 'tip': '1.47', 'sex': 'Male', 'smoker': 'No', 'day': 'Sat', 'time': 'Dinner', 'size': '2'}\n",
      "{'total_bill': '15.53', 'tip': '3', 'sex': 'Male', 'smoker': 'Yes', 'day': 'Sat', 'time': 'Dinner', 'size': '2'}\n",
      "{'total_bill': '10.07', 'tip': '1.25', 'sex': 'Male', 'smoker': 'No', 'day': 'Sat', 'time': 'Dinner', 'size': '2'}\n",
      "{'total_bill': '12.6', 'tip': '1', 'sex': 'Male', 'smoker': 'Yes', 'day': 'Sat', 'time': 'Dinner', 'size': '2'}\n",
      "{'total_bill': '32.83', 'tip': '1.17', 'sex': 'Male', 'smoker': 'Yes', 'day': 'Sat', 'time': 'Dinner', 'size': '2'}\n",
      "{'total_bill': '35.83', 'tip': '4.67', 'sex': 'Female', 'smoker': 'No', 'day': 'Sat', 'time': 'Dinner', 'size': '3'}\n",
      "{'total_bill': '29.03', 'tip': '5.92', 'sex': 'Male', 'smoker': 'No', 'day': 'Sat', 'time': 'Dinner', 'size': '3'}\n",
      "{'total_bill': '27.18', 'tip': '2', 'sex': 'Female', 'smoker': 'Yes', 'day': 'Sat', 'time': 'Dinner', 'size': '2'}\n",
      "{'total_bill': '22.67', 'tip': '2', 'sex': 'Male', 'smoker': 'Yes', 'day': 'Sat', 'time': 'Dinner', 'size': '2'}\n",
      "{'total_bill': '17.82', 'tip': '1.75', 'sex': 'Male', 'smoker': 'No', 'day': 'Sat', 'time': 'Dinner', 'size': '2'}\n",
      "{'total_bill': '18.78', 'tip': '3', 'sex': 'Female', 'smoker': 'No', 'day': 'Thur', 'time': 'Dinner', 'size': '2'}\n"
     ]
    }
   ],
   "source": [
    "import csv\n",
    "with open('tips.csv',mode='r') as file:\n",
    "    csv_reader = csv.DictReader(file)\n",
    "    for row in csv_reader:\n",
    "        print(row)"
   ]
  },
  {
   "cell_type": "code",
   "execution_count": 5,
   "metadata": {},
   "outputs": [
    {
     "data": {
      "text/html": [
       "<div>\n",
       "<style scoped>\n",
       "    .dataframe tbody tr th:only-of-type {\n",
       "        vertical-align: middle;\n",
       "    }\n",
       "\n",
       "    .dataframe tbody tr th {\n",
       "        vertical-align: top;\n",
       "    }\n",
       "\n",
       "    .dataframe thead th {\n",
       "        text-align: right;\n",
       "    }\n",
       "</style>\n",
       "<table border=\"1\" class=\"dataframe\">\n",
       "  <thead>\n",
       "    <tr style=\"text-align: right;\">\n",
       "      <th></th>\n",
       "      <th>total_bill</th>\n",
       "      <th>tip</th>\n",
       "      <th>sex</th>\n",
       "      <th>smoker</th>\n",
       "      <th>day</th>\n",
       "      <th>time</th>\n",
       "      <th>size</th>\n",
       "    </tr>\n",
       "  </thead>\n",
       "  <tbody>\n",
       "    <tr>\n",
       "      <th>0</th>\n",
       "      <td>16.99</td>\n",
       "      <td>1.01</td>\n",
       "      <td>Female</td>\n",
       "      <td>No</td>\n",
       "      <td>Sun</td>\n",
       "      <td>Dinner</td>\n",
       "      <td>2</td>\n",
       "    </tr>\n",
       "    <tr>\n",
       "      <th>1</th>\n",
       "      <td>10.34</td>\n",
       "      <td>1.66</td>\n",
       "      <td>Male</td>\n",
       "      <td>No</td>\n",
       "      <td>Sun</td>\n",
       "      <td>Dinner</td>\n",
       "      <td>3</td>\n",
       "    </tr>\n",
       "    <tr>\n",
       "      <th>2</th>\n",
       "      <td>21.01</td>\n",
       "      <td>3.50</td>\n",
       "      <td>Male</td>\n",
       "      <td>No</td>\n",
       "      <td>Sun</td>\n",
       "      <td>Dinner</td>\n",
       "      <td>3</td>\n",
       "    </tr>\n",
       "    <tr>\n",
       "      <th>3</th>\n",
       "      <td>23.68</td>\n",
       "      <td>3.31</td>\n",
       "      <td>Male</td>\n",
       "      <td>No</td>\n",
       "      <td>Sun</td>\n",
       "      <td>Dinner</td>\n",
       "      <td>2</td>\n",
       "    </tr>\n",
       "    <tr>\n",
       "      <th>4</th>\n",
       "      <td>24.59</td>\n",
       "      <td>3.61</td>\n",
       "      <td>Female</td>\n",
       "      <td>No</td>\n",
       "      <td>Sun</td>\n",
       "      <td>Dinner</td>\n",
       "      <td>4</td>\n",
       "    </tr>\n",
       "    <tr>\n",
       "      <th>5</th>\n",
       "      <td>25.29</td>\n",
       "      <td>4.71</td>\n",
       "      <td>Male</td>\n",
       "      <td>No</td>\n",
       "      <td>Sun</td>\n",
       "      <td>Dinner</td>\n",
       "      <td>4</td>\n",
       "    </tr>\n",
       "    <tr>\n",
       "      <th>6</th>\n",
       "      <td>8.77</td>\n",
       "      <td>2.00</td>\n",
       "      <td>Male</td>\n",
       "      <td>No</td>\n",
       "      <td>Sun</td>\n",
       "      <td>Dinner</td>\n",
       "      <td>2</td>\n",
       "    </tr>\n",
       "    <tr>\n",
       "      <th>7</th>\n",
       "      <td>26.88</td>\n",
       "      <td>3.12</td>\n",
       "      <td>Male</td>\n",
       "      <td>No</td>\n",
       "      <td>Sun</td>\n",
       "      <td>Dinner</td>\n",
       "      <td>4</td>\n",
       "    </tr>\n",
       "    <tr>\n",
       "      <th>8</th>\n",
       "      <td>15.04</td>\n",
       "      <td>1.96</td>\n",
       "      <td>Male</td>\n",
       "      <td>No</td>\n",
       "      <td>Sun</td>\n",
       "      <td>Dinner</td>\n",
       "      <td>2</td>\n",
       "    </tr>\n",
       "    <tr>\n",
       "      <th>9</th>\n",
       "      <td>14.78</td>\n",
       "      <td>3.23</td>\n",
       "      <td>Male</td>\n",
       "      <td>No</td>\n",
       "      <td>Sun</td>\n",
       "      <td>Dinner</td>\n",
       "      <td>2</td>\n",
       "    </tr>\n",
       "  </tbody>\n",
       "</table>\n",
       "</div>"
      ],
      "text/plain": [
       "   total_bill   tip     sex smoker  day    time  size\n",
       "0       16.99  1.01  Female     No  Sun  Dinner     2\n",
       "1       10.34  1.66    Male     No  Sun  Dinner     3\n",
       "2       21.01  3.50    Male     No  Sun  Dinner     3\n",
       "3       23.68  3.31    Male     No  Sun  Dinner     2\n",
       "4       24.59  3.61  Female     No  Sun  Dinner     4\n",
       "5       25.29  4.71    Male     No  Sun  Dinner     4\n",
       "6        8.77  2.00    Male     No  Sun  Dinner     2\n",
       "7       26.88  3.12    Male     No  Sun  Dinner     4\n",
       "8       15.04  1.96    Male     No  Sun  Dinner     2\n",
       "9       14.78  3.23    Male     No  Sun  Dinner     2"
      ]
     },
     "execution_count": 5,
     "metadata": {},
     "output_type": "execute_result"
    }
   ],
   "source": [
    "file=pd.read_csv('tips.csv')\n",
    "file.head(10)"
   ]
  },
  {
   "cell_type": "code",
   "execution_count": 6,
   "metadata": {},
   "outputs": [],
   "source": [
    "# pip install pandas"
   ]
  },
  {
   "cell_type": "markdown",
   "metadata": {},
   "source": [
    "Excel"
   ]
  },
  {
   "cell_type": "code",
   "execution_count": 7,
   "metadata": {},
   "outputs": [],
   "source": [
    "# pip install xlrd"
   ]
  },
  {
   "cell_type": "markdown",
   "metadata": {},
   "source": [
    "Excel Read"
   ]
  },
  {
   "cell_type": "code",
   "execution_count": 8,
   "metadata": {},
   "outputs": [
    {
     "data": {
      "text/html": [
       "<div>\n",
       "<style scoped>\n",
       "    .dataframe tbody tr th:only-of-type {\n",
       "        vertical-align: middle;\n",
       "    }\n",
       "\n",
       "    .dataframe tbody tr th {\n",
       "        vertical-align: top;\n",
       "    }\n",
       "\n",
       "    .dataframe thead th {\n",
       "        text-align: right;\n",
       "    }\n",
       "</style>\n",
       "<table border=\"1\" class=\"dataframe\">\n",
       "  <thead>\n",
       "    <tr style=\"text-align: right;\">\n",
       "      <th></th>\n",
       "      <th>Name</th>\n",
       "      <th>Description</th>\n",
       "    </tr>\n",
       "  </thead>\n",
       "  <tbody>\n",
       "    <tr>\n",
       "      <th>0</th>\n",
       "      <td>Swetha</td>\n",
       "      <td>Daughter</td>\n",
       "    </tr>\n",
       "    <tr>\n",
       "      <th>1</th>\n",
       "      <td>Sridhar</td>\n",
       "      <td>Son</td>\n",
       "    </tr>\n",
       "    <tr>\n",
       "      <th>2</th>\n",
       "      <td>Seenu</td>\n",
       "      <td>Father</td>\n",
       "    </tr>\n",
       "    <tr>\n",
       "      <th>3</th>\n",
       "      <td>Gayathri</td>\n",
       "      <td>Mother</td>\n",
       "    </tr>\n",
       "  </tbody>\n",
       "</table>\n",
       "</div>"
      ],
      "text/plain": [
       "       Name Description\n",
       "0    Swetha    Daughter\n",
       "1   Sridhar         Son\n",
       "2     Seenu      Father\n",
       "3  Gayathri      Mother"
      ]
     },
     "execution_count": 8,
     "metadata": {},
     "output_type": "execute_result"
    }
   ],
   "source": [
    "file=pd.read_excel('Pratice.xls',sheet_name='Sheet3')\n",
    "file"
   ]
  },
  {
   "cell_type": "code",
   "execution_count": 9,
   "metadata": {},
   "outputs": [
    {
     "name": "stdout",
     "output_type": "stream",
     "text": [
      "     Name  Age Qualification   Company\n",
      "0  Swetha   21           B.E    BUSOFT\n",
      "1     Sri   18          12th  Velammal\n",
      "2   Seenu   49         M.Com   Polmann\n"
     ]
    }
   ],
   "source": [
    "file=pd.ExcelFile('Pratice.xls')\n",
    "f=pd.read_excel(file,sheet_name=0)\n",
    "\n",
    "print(f)"
   ]
  },
  {
   "cell_type": "markdown",
   "metadata": {},
   "source": [
    "JSON"
   ]
  },
  {
   "cell_type": "code",
   "execution_count": 10,
   "metadata": {},
   "outputs": [],
   "source": [
    "import json"
   ]
  },
  {
   "cell_type": "code",
   "execution_count": 11,
   "metadata": {},
   "outputs": [
    {
     "name": "stdout",
     "output_type": "stream",
     "text": [
      "[{'Name': 'Swe', 'Hobby': 'Book Reading'}]\n"
     ]
    }
   ],
   "source": [
    "with open('data.json','r') as file:\n",
    "    data=json.load(file)\n",
    "print(data)"
   ]
  },
  {
   "cell_type": "code",
   "execution_count": 12,
   "metadata": {},
   "outputs": [
    {
     "name": "stdout",
     "output_type": "stream",
     "text": [
      "[{'Name': 'Swetha', 'Age': 21}]\n"
     ]
    }
   ],
   "source": [
    "data={'Name':'Swetha','Age':21}\n",
    "f=pd.DataFrame([data])\n",
    "data_dict=f.to_dict(orient='records')\n",
    "with open('data.json','w') as file:\n",
    "      json.dump('data_dict',file)\n",
    "      print(data_dict)\n",
    "   "
   ]
  },
  {
   "cell_type": "code",
   "execution_count": 13,
   "metadata": {},
   "outputs": [
    {
     "name": "stdout",
     "output_type": "stream",
     "text": [
      "  Name         Hobby\n",
      "0  Swe  Book Reading\n"
     ]
    }
   ],
   "source": [
    "data1={'Name':'Swe','Hobby':'Book Reading'}\n",
    "df=pd.DataFrame([data1])\n",
    "df.to_json('data.json',orient='records')\n",
    "print(df)"
   ]
  },
  {
   "cell_type": "markdown",
   "metadata": {},
   "source": [
    "MATH"
   ]
  },
  {
   "cell_type": "code",
   "execution_count": 14,
   "metadata": {},
   "outputs": [],
   "source": [
    "import math"
   ]
  },
  {
   "cell_type": "code",
   "execution_count": 15,
   "metadata": {},
   "outputs": [
    {
     "data": {
      "text/plain": [
       "['__doc__',\n",
       " '__loader__',\n",
       " '__name__',\n",
       " '__package__',\n",
       " '__spec__',\n",
       " 'acos',\n",
       " 'acosh',\n",
       " 'asin',\n",
       " 'asinh',\n",
       " 'atan',\n",
       " 'atan2',\n",
       " 'atanh',\n",
       " 'cbrt',\n",
       " 'ceil',\n",
       " 'comb',\n",
       " 'copysign',\n",
       " 'cos',\n",
       " 'cosh',\n",
       " 'degrees',\n",
       " 'dist',\n",
       " 'e',\n",
       " 'erf',\n",
       " 'erfc',\n",
       " 'exp',\n",
       " 'exp2',\n",
       " 'expm1',\n",
       " 'fabs',\n",
       " 'factorial',\n",
       " 'floor',\n",
       " 'fmod',\n",
       " 'frexp',\n",
       " 'fsum',\n",
       " 'gamma',\n",
       " 'gcd',\n",
       " 'hypot',\n",
       " 'inf',\n",
       " 'isclose',\n",
       " 'isfinite',\n",
       " 'isinf',\n",
       " 'isnan',\n",
       " 'isqrt',\n",
       " 'lcm',\n",
       " 'ldexp',\n",
       " 'lgamma',\n",
       " 'log',\n",
       " 'log10',\n",
       " 'log1p',\n",
       " 'log2',\n",
       " 'modf',\n",
       " 'nan',\n",
       " 'nextafter',\n",
       " 'perm',\n",
       " 'pi',\n",
       " 'pow',\n",
       " 'prod',\n",
       " 'radians',\n",
       " 'remainder',\n",
       " 'sin',\n",
       " 'sinh',\n",
       " 'sqrt',\n",
       " 'sumprod',\n",
       " 'tan',\n",
       " 'tanh',\n",
       " 'tau',\n",
       " 'trunc',\n",
       " 'ulp']"
      ]
     },
     "execution_count": 15,
     "metadata": {},
     "output_type": "execute_result"
    }
   ],
   "source": [
    "dir(math)"
   ]
  },
  {
   "cell_type": "code",
   "execution_count": 16,
   "metadata": {},
   "outputs": [
    {
     "data": {
      "text/plain": [
       "180"
      ]
     },
     "execution_count": 16,
     "metadata": {},
     "output_type": "execute_result"
    }
   ],
   "source": [
    "math.lcm(12,45)"
   ]
  },
  {
   "cell_type": "code",
   "execution_count": 17,
   "metadata": {},
   "outputs": [
    {
     "data": {
      "text/plain": [
       "2.302585092994046"
      ]
     },
     "execution_count": 17,
     "metadata": {},
     "output_type": "execute_result"
    }
   ],
   "source": [
    "math.log(10)"
   ]
  },
  {
   "cell_type": "code",
   "execution_count": 18,
   "metadata": {},
   "outputs": [
    {
     "data": {
      "text/plain": [
       "False"
      ]
     },
     "execution_count": 18,
     "metadata": {},
     "output_type": "execute_result"
    }
   ],
   "source": [
    "math.isnan(3)"
   ]
  },
  {
   "cell_type": "markdown",
   "metadata": {},
   "source": [
    "PANDAS"
   ]
  },
  {
   "cell_type": "code",
   "execution_count": 19,
   "metadata": {},
   "outputs": [],
   "source": [
    "import pandas"
   ]
  },
  {
   "cell_type": "code",
   "execution_count": 20,
   "metadata": {},
   "outputs": [
    {
     "data": {
      "text/plain": [
       "['ArrowDtype',\n",
       " 'BooleanDtype',\n",
       " 'Categorical',\n",
       " 'CategoricalDtype',\n",
       " 'CategoricalIndex',\n",
       " 'DataFrame',\n",
       " 'DateOffset',\n",
       " 'DatetimeIndex',\n",
       " 'DatetimeTZDtype',\n",
       " 'ExcelFile',\n",
       " 'ExcelWriter',\n",
       " 'Flags',\n",
       " 'Float32Dtype',\n",
       " 'Float64Dtype',\n",
       " 'Grouper',\n",
       " 'HDFStore',\n",
       " 'Index',\n",
       " 'IndexSlice',\n",
       " 'Int16Dtype',\n",
       " 'Int32Dtype',\n",
       " 'Int64Dtype',\n",
       " 'Int8Dtype',\n",
       " 'Interval',\n",
       " 'IntervalDtype',\n",
       " 'IntervalIndex',\n",
       " 'MultiIndex',\n",
       " 'NA',\n",
       " 'NaT',\n",
       " 'NamedAgg',\n",
       " 'Period',\n",
       " 'PeriodDtype',\n",
       " 'PeriodIndex',\n",
       " 'RangeIndex',\n",
       " 'Series',\n",
       " 'SparseDtype',\n",
       " 'StringDtype',\n",
       " 'Timedelta',\n",
       " 'TimedeltaIndex',\n",
       " 'Timestamp',\n",
       " 'UInt16Dtype',\n",
       " 'UInt32Dtype',\n",
       " 'UInt64Dtype',\n",
       " 'UInt8Dtype',\n",
       " '__all__',\n",
       " '__builtins__',\n",
       " '__cached__',\n",
       " '__doc__',\n",
       " '__docformat__',\n",
       " '__file__',\n",
       " '__git_version__',\n",
       " '__loader__',\n",
       " '__name__',\n",
       " '__package__',\n",
       " '__path__',\n",
       " '__spec__',\n",
       " '__version__',\n",
       " '_built_with_meson',\n",
       " '_config',\n",
       " '_is_numpy_dev',\n",
       " '_libs',\n",
       " '_pandas_datetime_CAPI',\n",
       " '_pandas_parser_CAPI',\n",
       " '_testing',\n",
       " '_typing',\n",
       " '_version_meson',\n",
       " 'annotations',\n",
       " 'api',\n",
       " 'array',\n",
       " 'arrays',\n",
       " 'bdate_range',\n",
       " 'compat',\n",
       " 'concat',\n",
       " 'core',\n",
       " 'crosstab',\n",
       " 'cut',\n",
       " 'date_range',\n",
       " 'describe_option',\n",
       " 'errors',\n",
       " 'eval',\n",
       " 'factorize',\n",
       " 'from_dummies',\n",
       " 'get_dummies',\n",
       " 'get_option',\n",
       " 'infer_freq',\n",
       " 'interval_range',\n",
       " 'io',\n",
       " 'isna',\n",
       " 'isnull',\n",
       " 'json_normalize',\n",
       " 'lreshape',\n",
       " 'melt',\n",
       " 'merge',\n",
       " 'merge_asof',\n",
       " 'merge_ordered',\n",
       " 'notna',\n",
       " 'notnull',\n",
       " 'offsets',\n",
       " 'option_context',\n",
       " 'options',\n",
       " 'pandas',\n",
       " 'period_range',\n",
       " 'pivot',\n",
       " 'pivot_table',\n",
       " 'plotting',\n",
       " 'qcut',\n",
       " 'read_clipboard',\n",
       " 'read_csv',\n",
       " 'read_excel',\n",
       " 'read_feather',\n",
       " 'read_fwf',\n",
       " 'read_gbq',\n",
       " 'read_hdf',\n",
       " 'read_html',\n",
       " 'read_json',\n",
       " 'read_orc',\n",
       " 'read_parquet',\n",
       " 'read_pickle',\n",
       " 'read_sas',\n",
       " 'read_spss',\n",
       " 'read_sql',\n",
       " 'read_sql_query',\n",
       " 'read_sql_table',\n",
       " 'read_stata',\n",
       " 'read_table',\n",
       " 'read_xml',\n",
       " 'reset_option',\n",
       " 'set_eng_float_format',\n",
       " 'set_option',\n",
       " 'show_versions',\n",
       " 'test',\n",
       " 'testing',\n",
       " 'timedelta_range',\n",
       " 'to_datetime',\n",
       " 'to_numeric',\n",
       " 'to_pickle',\n",
       " 'to_timedelta',\n",
       " 'tseries',\n",
       " 'unique',\n",
       " 'util',\n",
       " 'value_counts',\n",
       " 'wide_to_long']"
      ]
     },
     "execution_count": 20,
     "metadata": {},
     "output_type": "execute_result"
    }
   ],
   "source": [
    "dir(pandas)"
   ]
  },
  {
   "cell_type": "code",
   "execution_count": 21,
   "metadata": {},
   "outputs": [
    {
     "name": "stdout",
     "output_type": "stream",
     "text": [
      "  Name         Hobby\n",
      "0  Swe  Book Reading\n"
     ]
    }
   ],
   "source": [
    "data1={'Name':'Swe','Hobby':'Book Reading'}\n",
    "df=pd.DataFrame([data1])\n",
    "print(df)"
   ]
  },
  {
   "cell_type": "code",
   "execution_count": 22,
   "metadata": {},
   "outputs": [
    {
     "data": {
      "text/plain": [
       "0        Swetha\n",
       "0    Srinivasan\n",
       "dtype: object"
      ]
     },
     "execution_count": 22,
     "metadata": {},
     "output_type": "execute_result"
    }
   ],
   "source": [
    "s1=pd.Series([\"Swetha\"])\n",
    "s2=pd.Series([\"Srinivasan\"])\n",
    "pd.concat([s1,s2])\n"
   ]
  },
  {
   "cell_type": "code",
   "execution_count": 24,
   "metadata": {},
   "outputs": [
    {
     "data": {
      "text/html": [
       "<div>\n",
       "<style scoped>\n",
       "    .dataframe tbody tr th:only-of-type {\n",
       "        vertical-align: middle;\n",
       "    }\n",
       "\n",
       "    .dataframe tbody tr th {\n",
       "        vertical-align: top;\n",
       "    }\n",
       "\n",
       "    .dataframe thead th {\n",
       "        text-align: right;\n",
       "    }\n",
       "</style>\n",
       "<table border=\"1\" class=\"dataframe\">\n",
       "  <thead>\n",
       "    <tr style=\"text-align: right;\">\n",
       "      <th></th>\n",
       "      <th>name</th>\n",
       "      <th>age</th>\n",
       "    </tr>\n",
       "  </thead>\n",
       "  <tbody>\n",
       "    <tr>\n",
       "      <th>0</th>\n",
       "      <td>Swetha</td>\n",
       "      <td>21</td>\n",
       "    </tr>\n",
       "    <tr>\n",
       "      <th>1</th>\n",
       "      <td>Immanuel</td>\n",
       "      <td>20</td>\n",
       "    </tr>\n",
       "    <tr>\n",
       "      <th>2</th>\n",
       "      <td>Sridhar</td>\n",
       "      <td>17</td>\n",
       "    </tr>\n",
       "  </tbody>\n",
       "</table>\n",
       "</div>"
      ],
      "text/plain": [
       "       name  age\n",
       "0    Swetha   21\n",
       "1  Immanuel   20\n",
       "2   Sridhar   17"
      ]
     },
     "execution_count": 24,
     "metadata": {},
     "output_type": "execute_result"
    }
   ],
   "source": [
    "df1=pd.DataFrame({'name':[\"Swetha\",\"Immanuel\",\"Sridhar\"],\n",
    "                  'age':[21,20,17]})\n",
    "df2=pd.DataFrame({'name':[\"Seenu\",\"Gati\"],\n",
    "                  'age':[49,48]})\n",
    "df1.merge(df2,how='left')"
   ]
  },
  {
   "cell_type": "markdown",
   "metadata": {},
   "source": [
    "DATETIME"
   ]
  },
  {
   "cell_type": "code",
   "execution_count": 25,
   "metadata": {},
   "outputs": [],
   "source": [
    "import datetime"
   ]
  },
  {
   "cell_type": "code",
   "execution_count": 26,
   "metadata": {},
   "outputs": [
    {
     "data": {
      "text/plain": [
       "['MAXYEAR',\n",
       " 'MINYEAR',\n",
       " 'UTC',\n",
       " '__all__',\n",
       " '__builtins__',\n",
       " '__cached__',\n",
       " '__doc__',\n",
       " '__file__',\n",
       " '__loader__',\n",
       " '__name__',\n",
       " '__package__',\n",
       " '__spec__',\n",
       " 'date',\n",
       " 'datetime',\n",
       " 'datetime_CAPI',\n",
       " 'time',\n",
       " 'timedelta',\n",
       " 'timezone',\n",
       " 'tzinfo']"
      ]
     },
     "execution_count": 26,
     "metadata": {},
     "output_type": "execute_result"
    }
   ],
   "source": [
    "dir(datetime)"
   ]
  },
  {
   "cell_type": "code",
   "execution_count": 27,
   "metadata": {},
   "outputs": [
    {
     "name": "stdout",
     "output_type": "stream",
     "text": [
      "2024-03-22 14:34:03.070751\n"
     ]
    }
   ],
   "source": [
    "x=datetime.datetime.now()\n",
    "print(x)"
   ]
  },
  {
   "cell_type": "code",
   "execution_count": 28,
   "metadata": {},
   "outputs": [
    {
     "name": "stdout",
     "output_type": "stream",
     "text": [
      "<method 'tzname' of 'datetime.timezone' objects>\n"
     ]
    }
   ],
   "source": [
    "x=datetime.timezone.tzname\n",
    "print(x)"
   ]
  },
  {
   "cell_type": "code",
   "execution_count": 29,
   "metadata": {},
   "outputs": [
    {
     "name": "stdout",
     "output_type": "stream",
     "text": [
      "00:00:00\n"
     ]
    }
   ],
   "source": [
    "x=datetime.time(\n",
    ")\n",
    "print(x)"
   ]
  },
  {
   "cell_type": "markdown",
   "metadata": {},
   "source": [
    "CALENDAR"
   ]
  },
  {
   "cell_type": "code",
   "execution_count": 30,
   "metadata": {},
   "outputs": [],
   "source": [
    "import calendar"
   ]
  },
  {
   "cell_type": "code",
   "execution_count": 31,
   "metadata": {},
   "outputs": [
    {
     "name": "stdout",
     "output_type": "stream",
     "text": [
      "                                  2024\n",
      "\n",
      "      January                   February                   March\n",
      "Mo Tu We Th Fr Sa Su      Mo Tu We Th Fr Sa Su      Mo Tu We Th Fr Sa Su\n",
      " 1  2  3  4  5  6  7                1  2  3  4                   1  2  3\n",
      " 8  9 10 11 12 13 14       5  6  7  8  9 10 11       4  5  6  7  8  9 10\n",
      "15 16 17 18 19 20 21      12 13 14 15 16 17 18      11 12 13 14 15 16 17\n",
      "22 23 24 25 26 27 28      19 20 21 22 23 24 25      18 19 20 21 22 23 24\n",
      "29 30 31                  26 27 28 29               25 26 27 28 29 30 31\n",
      "\n",
      "       April                      May                       June\n",
      "Mo Tu We Th Fr Sa Su      Mo Tu We Th Fr Sa Su      Mo Tu We Th Fr Sa Su\n",
      " 1  2  3  4  5  6  7             1  2  3  4  5                      1  2\n",
      " 8  9 10 11 12 13 14       6  7  8  9 10 11 12       3  4  5  6  7  8  9\n",
      "15 16 17 18 19 20 21      13 14 15 16 17 18 19      10 11 12 13 14 15 16\n",
      "22 23 24 25 26 27 28      20 21 22 23 24 25 26      17 18 19 20 21 22 23\n",
      "29 30                     27 28 29 30 31            24 25 26 27 28 29 30\n",
      "\n",
      "        July                     August                  September\n",
      "Mo Tu We Th Fr Sa Su      Mo Tu We Th Fr Sa Su      Mo Tu We Th Fr Sa Su\n",
      " 1  2  3  4  5  6  7                1  2  3  4                         1\n",
      " 8  9 10 11 12 13 14       5  6  7  8  9 10 11       2  3  4  5  6  7  8\n",
      "15 16 17 18 19 20 21      12 13 14 15 16 17 18       9 10 11 12 13 14 15\n",
      "22 23 24 25 26 27 28      19 20 21 22 23 24 25      16 17 18 19 20 21 22\n",
      "29 30 31                  26 27 28 29 30 31         23 24 25 26 27 28 29\n",
      "                                                    30\n",
      "\n",
      "      October                   November                  December\n",
      "Mo Tu We Th Fr Sa Su      Mo Tu We Th Fr Sa Su      Mo Tu We Th Fr Sa Su\n",
      "    1  2  3  4  5  6                   1  2  3                         1\n",
      " 7  8  9 10 11 12 13       4  5  6  7  8  9 10       2  3  4  5  6  7  8\n",
      "14 15 16 17 18 19 20      11 12 13 14 15 16 17       9 10 11 12 13 14 15\n",
      "21 22 23 24 25 26 27      18 19 20 21 22 23 24      16 17 18 19 20 21 22\n",
      "28 29 30 31               25 26 27 28 29 30         23 24 25 26 27 28 29\n",
      "                                                    30 31\n",
      "\n"
     ]
    }
   ],
   "source": [
    "print(calendar.calendar(2024))"
   ]
  },
  {
   "cell_type": "code",
   "execution_count": 32,
   "metadata": {},
   "outputs": [
    {
     "name": "stdout",
     "output_type": "stream",
     "text": [
      "    August 2024\n",
      "Mo Tu We Th Fr Sa Su\n",
      "          1  2  3  4\n",
      " 5  6  7  8  9 10 11\n",
      "12 13 14 15 16 17 18\n",
      "19 20 21 22 23 24 25\n",
      "26 27 28 29 30 31\n",
      "\n"
     ]
    }
   ],
   "source": [
    "print(calendar.month(2024,8))"
   ]
  },
  {
   "cell_type": "code",
   "execution_count": 33,
   "metadata": {},
   "outputs": [
    {
     "name": "stdout",
     "output_type": "stream",
     "text": [
      "True\n"
     ]
    }
   ],
   "source": [
    "print(calendar.isleap(2024))"
   ]
  },
  {
   "cell_type": "markdown",
   "metadata": {},
   "source": [
    "RANDOM"
   ]
  },
  {
   "cell_type": "code",
   "execution_count": 34,
   "metadata": {},
   "outputs": [],
   "source": [
    "import random"
   ]
  },
  {
   "cell_type": "code",
   "execution_count": 35,
   "metadata": {},
   "outputs": [
    {
     "data": {
      "text/plain": [
       "['BPF',\n",
       " 'LOG4',\n",
       " 'NV_MAGICCONST',\n",
       " 'RECIP_BPF',\n",
       " 'Random',\n",
       " 'SG_MAGICCONST',\n",
       " 'SystemRandom',\n",
       " 'TWOPI',\n",
       " '_ONE',\n",
       " '_Sequence',\n",
       " '__all__',\n",
       " '__builtins__',\n",
       " '__cached__',\n",
       " '__doc__',\n",
       " '__file__',\n",
       " '__loader__',\n",
       " '__name__',\n",
       " '__package__',\n",
       " '__spec__',\n",
       " '_accumulate',\n",
       " '_acos',\n",
       " '_bisect',\n",
       " '_ceil',\n",
       " '_cos',\n",
       " '_e',\n",
       " '_exp',\n",
       " '_fabs',\n",
       " '_floor',\n",
       " '_index',\n",
       " '_inst',\n",
       " '_isfinite',\n",
       " '_lgamma',\n",
       " '_log',\n",
       " '_log2',\n",
       " '_os',\n",
       " '_pi',\n",
       " '_random',\n",
       " '_repeat',\n",
       " '_sha512',\n",
       " '_sin',\n",
       " '_sqrt',\n",
       " '_test',\n",
       " '_test_generator',\n",
       " '_urandom',\n",
       " '_warn',\n",
       " 'betavariate',\n",
       " 'binomialvariate',\n",
       " 'choice',\n",
       " 'choices',\n",
       " 'expovariate',\n",
       " 'gammavariate',\n",
       " 'gauss',\n",
       " 'getrandbits',\n",
       " 'getstate',\n",
       " 'lognormvariate',\n",
       " 'normalvariate',\n",
       " 'paretovariate',\n",
       " 'randbytes',\n",
       " 'randint',\n",
       " 'random',\n",
       " 'randrange',\n",
       " 'sample',\n",
       " 'seed',\n",
       " 'setstate',\n",
       " 'shuffle',\n",
       " 'triangular',\n",
       " 'uniform',\n",
       " 'vonmisesvariate',\n",
       " 'weibullvariate']"
      ]
     },
     "execution_count": 35,
     "metadata": {},
     "output_type": "execute_result"
    }
   ],
   "source": [
    "dir(random)"
   ]
  },
  {
   "cell_type": "code",
   "execution_count": 36,
   "metadata": {},
   "outputs": [
    {
     "name": "stdout",
     "output_type": "stream",
     "text": [
      "0.1133855568255886\n"
     ]
    }
   ],
   "source": [
    "print(random.random())"
   ]
  },
  {
   "cell_type": "code",
   "execution_count": 37,
   "metadata": {},
   "outputs": [
    {
     "name": "stdout",
     "output_type": "stream",
     "text": [
      "6\n"
     ]
    }
   ],
   "source": [
    "print(random.randint(1,10))"
   ]
  },
  {
   "cell_type": "code",
   "execution_count": 38,
   "metadata": {},
   "outputs": [
    {
     "name": "stdout",
     "output_type": "stream",
     "text": [
      "['sridhar', 'swetha', 'immanuel', 'seenu']\n"
     ]
    }
   ],
   "source": [
    "a=[\"swetha\",\"sridhar\",\"immanuel\",\"seenu\"]\n",
    "random.shuffle(a)\n",
    "print(a)"
   ]
  },
  {
   "cell_type": "markdown",
   "metadata": {},
   "source": [
    "HOLIDAYS"
   ]
  },
  {
   "cell_type": "code",
   "execution_count": 39,
   "metadata": {},
   "outputs": [],
   "source": [
    "# pip install holidays"
   ]
  },
  {
   "cell_type": "code",
   "execution_count": 40,
   "metadata": {},
   "outputs": [
    {
     "name": "stdout",
     "output_type": "stream",
     "text": [
      "Its a : Independence Day\n"
     ]
    }
   ],
   "source": [
    "import holidays\n",
    "indian_holidays=holidays.India()\n",
    "date=\"2024-08-15\"\n",
    "if date in indian_holidays:\n",
    "    print(\"Its a :\",indian_holidays[date])\n",
    "else:\n",
    "    print(\"Not a holiday\")"
   ]
  },
  {
   "cell_type": "code",
   "execution_count": 41,
   "metadata": {},
   "outputs": [
    {
     "name": "stdout",
     "output_type": "stream",
     "text": [
      "{datetime.date(2015, 1, 1): \"New Year's Day\", datetime.date(2015, 5, 25): 'Memorial Day', datetime.date(2015, 7, 4): 'Independence Day', datetime.date(2015, 7, 3): 'Independence Day (observed)', datetime.date(2015, 9, 7): 'Labor Day', datetime.date(2015, 11, 11): 'Veterans Day', datetime.date(2015, 11, 26): 'Thanksgiving', datetime.date(2015, 12, 25): 'Christmas Day', datetime.date(2015, 1, 19): 'Martin Luther King Jr. Day', datetime.date(2015, 2, 16): \"Washington's Birthday\", datetime.date(2015, 10, 12): 'Columbus Day'}\n"
     ]
    }
   ],
   "source": [
    "from holidays import country_holidays\n",
    "custom_holidays = country_holidays('US', years=2015)\n",
    "print(custom_holidays)"
   ]
  },
  {
   "cell_type": "markdown",
   "metadata": {},
   "source": [
    "COLLECTIONS"
   ]
  },
  {
   "cell_type": "code",
   "execution_count": 42,
   "metadata": {},
   "outputs": [],
   "source": [
    "import collections"
   ]
  },
  {
   "cell_type": "code",
   "execution_count": 43,
   "metadata": {},
   "outputs": [
    {
     "data": {
      "text/plain": [
       "['ChainMap',\n",
       " 'Counter',\n",
       " 'OrderedDict',\n",
       " 'UserDict',\n",
       " 'UserList',\n",
       " 'UserString',\n",
       " '_Link',\n",
       " '_OrderedDictItemsView',\n",
       " '_OrderedDictKeysView',\n",
       " '_OrderedDictValuesView',\n",
       " '__all__',\n",
       " '__builtins__',\n",
       " '__cached__',\n",
       " '__doc__',\n",
       " '__file__',\n",
       " '__loader__',\n",
       " '__name__',\n",
       " '__package__',\n",
       " '__path__',\n",
       " '__spec__',\n",
       " '_chain',\n",
       " '_collections_abc',\n",
       " '_count_elements',\n",
       " '_deque_iterator',\n",
       " '_eq',\n",
       " '_iskeyword',\n",
       " '_itemgetter',\n",
       " '_proxy',\n",
       " '_recursive_repr',\n",
       " '_repeat',\n",
       " '_starmap',\n",
       " '_sys',\n",
       " '_tuplegetter',\n",
       " 'abc',\n",
       " 'defaultdict',\n",
       " 'deque',\n",
       " 'namedtuple']"
      ]
     },
     "execution_count": 43,
     "metadata": {},
     "output_type": "execute_result"
    }
   ],
   "source": [
    "dir(collections)"
   ]
  },
  {
   "cell_type": "code",
   "execution_count": 45,
   "metadata": {},
   "outputs": [
    {
     "name": "stdout",
     "output_type": "stream",
     "text": [
      "Counter({'a': 5, 'b': 4, 'c': 3, 'd': 2, 'e': 1})\n"
     ]
    }
   ],
   "source": [
    "print(collections.Counter('abcdeabcdabcaba'))"
   ]
  },
  {
   "cell_type": "code",
   "execution_count": 46,
   "metadata": {},
   "outputs": [
    {
     "name": "stdout",
     "output_type": "stream",
     "text": [
      "ChainMap({'a': 1, 'b': 2}, {'b': 3, 'c': 4})\n"
     ]
    }
   ],
   "source": [
    "dict1 = {'a': 1, 'b': 2}\n",
    "dict2 = {'b': 3, 'c': 4}\n",
    "print(collections.ChainMap(dict1,dict2))"
   ]
  },
  {
   "cell_type": "code",
   "execution_count": 47,
   "metadata": {},
   "outputs": [
    {
     "name": "stdout",
     "output_type": "stream",
     "text": [
      "OrderedDict({'a': 1, 'b': 2, 'c': 3})\n"
     ]
    }
   ],
   "source": [
    "from collections import OrderedDict\n",
    "ordered_dict = OrderedDict()\n",
    "ordered_dict['a'] = 1\n",
    "ordered_dict['b'] = 2\n",
    "ordered_dict['c'] = 3\n",
    "collections.OrderedDict()\n",
    "print(ordered_dict)"
   ]
  },
  {
   "cell_type": "markdown",
   "metadata": {},
   "source": [
    "LOGGING"
   ]
  },
  {
   "cell_type": "code",
   "execution_count": 48,
   "metadata": {},
   "outputs": [],
   "source": [
    "import logging"
   ]
  },
  {
   "cell_type": "code",
   "execution_count": 49,
   "metadata": {},
   "outputs": [],
   "source": [
    "logging.debug(\"Debug\")\n"
   ]
  },
  {
   "cell_type": "code",
   "execution_count": 50,
   "metadata": {},
   "outputs": [
    {
     "name": "stderr",
     "output_type": "stream",
     "text": [
      "CRITICAL:root:Message\n"
     ]
    }
   ],
   "source": [
    "logging.critical(\"Message\")"
   ]
  },
  {
   "cell_type": "code",
   "execution_count": 51,
   "metadata": {},
   "outputs": [
    {
     "name": "stderr",
     "output_type": "stream",
     "text": [
      "ERROR:root:msg=Message\n"
     ]
    }
   ],
   "source": [
    "logging.error(\"msg=Message\")"
   ]
  },
  {
   "cell_type": "markdown",
   "metadata": {},
   "source": [
    "OS"
   ]
  },
  {
   "cell_type": "code",
   "execution_count": 52,
   "metadata": {},
   "outputs": [],
   "source": [
    "import os"
   ]
  },
  {
   "cell_type": "code",
   "execution_count": 54,
   "metadata": {},
   "outputs": [],
   "source": [
    "path1 = os.access(\"text.txt\", os.F_OK)"
   ]
  },
  {
   "cell_type": "code",
   "execution_count": 55,
   "metadata": {},
   "outputs": [],
   "source": [
    "# print(os.abort())"
   ]
  },
  {
   "cell_type": "code",
   "execution_count": 59,
   "metadata": {},
   "outputs": [
    {
     "name": "stdout",
     "output_type": "stream",
     "text": [
      "None\n"
     ]
    }
   ],
   "source": [
    "print(os.device_encoding(13342))"
   ]
  },
  {
   "cell_type": "markdown",
   "metadata": {},
   "source": [
    "PIP"
   ]
  },
  {
   "cell_type": "code",
   "execution_count": 60,
   "metadata": {},
   "outputs": [],
   "source": [
    "import pip\n"
   ]
  },
  {
   "cell_type": "code",
   "execution_count": 61,
   "metadata": {},
   "outputs": [
    {
     "data": {
      "text/plain": [
       "['List',\n",
       " 'Optional',\n",
       " '__builtins__',\n",
       " '__cached__',\n",
       " '__doc__',\n",
       " '__file__',\n",
       " '__loader__',\n",
       " '__name__',\n",
       " '__package__',\n",
       " '__path__',\n",
       " '__spec__',\n",
       " '__version__',\n",
       " 'main']"
      ]
     },
     "execution_count": 61,
     "metadata": {},
     "output_type": "execute_result"
    }
   ],
   "source": [
    "dir(pip)"
   ]
  },
  {
   "cell_type": "markdown",
   "metadata": {},
   "source": [
    "SYS"
   ]
  },
  {
   "cell_type": "code",
   "execution_count": 63,
   "metadata": {},
   "outputs": [],
   "source": [
    "import sys"
   ]
  },
  {
   "cell_type": "code",
   "execution_count": 64,
   "metadata": {},
   "outputs": [
    {
     "name": "stdout",
     "output_type": "stream",
     "text": [
      "3.12.0 (tags/v3.12.0:0fb18b0, Oct  2 2023, 13:03:39) [MSC v.1935 64 bit (AMD64)]\n"
     ]
    }
   ],
   "source": [
    "print(sys.version)"
   ]
  },
  {
   "cell_type": "code",
   "execution_count": 65,
   "metadata": {},
   "outputs": [
    {
     "name": "stdout",
     "output_type": "stream",
     "text": [
      "Swetha"
     ]
    },
    {
     "data": {
      "text/plain": [
       "6"
      ]
     },
     "execution_count": 65,
     "metadata": {},
     "output_type": "execute_result"
    }
   ],
   "source": [
    "sys.stdout.write(\"Swetha\")"
   ]
  },
  {
   "cell_type": "code",
   "execution_count": 67,
   "metadata": {},
   "outputs": [
    {
     "data": {
      "text/plain": [
       "['c:\\\\Users\\\\swetha.s\\\\Desktop\\\\Python\\\\My-Work\\\\Day-5',\n",
       " 'C:\\\\Users\\\\swetha.s\\\\AppData\\\\Local\\\\Programs\\\\Python\\\\Python312\\\\python312.zip',\n",
       " 'C:\\\\Users\\\\swetha.s\\\\AppData\\\\Local\\\\Programs\\\\Python\\\\Python312\\\\DLLs',\n",
       " 'C:\\\\Users\\\\swetha.s\\\\AppData\\\\Local\\\\Programs\\\\Python\\\\Python312\\\\Lib',\n",
       " 'C:\\\\Users\\\\swetha.s\\\\AppData\\\\Local\\\\Programs\\\\Python\\\\Python312',\n",
       " 'c:\\\\Users\\\\swetha.s\\\\Desktop\\\\Python\\\\venv',\n",
       " '',\n",
       " 'c:\\\\Users\\\\swetha.s\\\\Desktop\\\\Python\\\\venv\\\\Lib\\\\site-packages',\n",
       " 'c:\\\\Users\\\\swetha.s\\\\Desktop\\\\Python\\\\venv\\\\Lib\\\\site-packages\\\\win32',\n",
       " 'c:\\\\Users\\\\swetha.s\\\\Desktop\\\\Python\\\\venv\\\\Lib\\\\site-packages\\\\win32\\\\lib',\n",
       " 'c:\\\\Users\\\\swetha.s\\\\Desktop\\\\Python\\\\venv\\\\Lib\\\\site-packages\\\\Pythonwin']"
      ]
     },
     "execution_count": 67,
     "metadata": {},
     "output_type": "execute_result"
    }
   ],
   "source": [
    "sys.path"
   ]
  },
  {
   "cell_type": "markdown",
   "metadata": {},
   "source": [
    "TIME"
   ]
  },
  {
   "cell_type": "code",
   "execution_count": 68,
   "metadata": {},
   "outputs": [],
   "source": [
    "import time\n"
   ]
  },
  {
   "cell_type": "code",
   "execution_count": 69,
   "metadata": {},
   "outputs": [
    {
     "name": "stdout",
     "output_type": "stream",
     "text": [
      "time.struct_time(tm_year=1970, tm_mon=1, tm_mday=1, tm_hour=0, tm_min=0, tm_sec=7, tm_wday=3, tm_yday=1, tm_isdst=0)\n"
     ]
    }
   ],
   "source": [
    "print(time.gmtime(7))"
   ]
  },
  {
   "cell_type": "code",
   "execution_count": 70,
   "metadata": {},
   "outputs": [
    {
     "name": "stdout",
     "output_type": "stream",
     "text": [
      "1711098894.4209843\n"
     ]
    }
   ],
   "source": [
    "print(time.time())"
   ]
  },
  {
   "cell_type": "code",
   "execution_count": 71,
   "metadata": {},
   "outputs": [
    {
     "name": "stdout",
     "output_type": "stream",
     "text": [
      "Fri Mar 22 14:45:10 2024\n"
     ]
    }
   ],
   "source": [
    "print(time.ctime())"
   ]
  },
  {
   "cell_type": "markdown",
   "metadata": {},
   "source": [
    "Write down programs for error handling(try,except and finally) for TypeError,OverFlowError,IndentationError"
   ]
  },
  {
   "cell_type": "markdown",
   "metadata": {},
   "source": [
    "1.TypeError"
   ]
  },
  {
   "cell_type": "code",
   "execution_count": 81,
   "metadata": {},
   "outputs": [
    {
     "name": "stdout",
     "output_type": "stream",
     "text": [
      "TypeError:string concatenates with string(not int)\n",
      "This is finally block\n"
     ]
    }
   ],
   "source": [
    "try:\n",
    "    str1=\"Swetha\"\n",
    "    num1=21\n",
    "    print(str1+num1)\n",
    "except TypeError:\n",
    "    print(\"TypeError:string concatenates with string(not int)\")\n",
    "finally:\n",
    "    print(\"This is finally block\")"
   ]
  },
  {
   "cell_type": "markdown",
   "metadata": {},
   "source": [
    "2.OverFlowError"
   ]
  },
  {
   "cell_type": "code",
   "execution_count": 87,
   "metadata": {},
   "outputs": [
    {
     "name": "stdout",
     "output_type": "stream",
     "text": [
      "OverflowError:The value is too long to calculate\n",
      "Cleaned up the resources\n"
     ]
    }
   ],
   "source": [
    "try:\n",
    "    import math \n",
    "    math.exp(1000)\n",
    "except:\n",
    "    print(\"OverflowError:The value is too long to calculate\")\n",
    "finally:\n",
    "    print(\"Cleaned up the resources\")"
   ]
  },
  {
   "cell_type": "markdown",
   "metadata": {},
   "source": [
    "3.IndentationError"
   ]
  },
  {
   "cell_type": "code",
   "execution_count": 93,
   "metadata": {},
   "outputs": [
    {
     "ename": "IndentationError",
     "evalue": "expected an indented block after function definition on line 2 (688778656.py, line 3)",
     "output_type": "error",
     "traceback": [
      "\u001b[1;36m  Cell \u001b[1;32mIn[93], line 3\u001b[1;36m\u001b[0m\n\u001b[1;33m    if a>7:\u001b[0m\n\u001b[1;37m    ^\u001b[0m\n\u001b[1;31mIndentationError\u001b[0m\u001b[1;31m:\u001b[0m expected an indented block after function definition on line 2\n"
     ]
    }
   ],
   "source": [
    "try:\n",
    "    def compare(a):\n",
    "    if a>7:\n",
    "        print(\"a is greater than 7\")\n",
    "except:\n",
    "    print(\"IndentationError: Indentation block is missing\")\n",
    "finally:\n",
    "    print(\"Cleaned up the resources\")\n"
   ]
  },
  {
   "cell_type": "code",
   "execution_count": null,
   "metadata": {},
   "outputs": [],
   "source": []
  }
 ],
 "metadata": {
  "kernelspec": {
   "display_name": "venv",
   "language": "python",
   "name": "python3"
  },
  "language_info": {
   "codemirror_mode": {
    "name": "ipython",
    "version": 3
   },
   "file_extension": ".py",
   "mimetype": "text/x-python",
   "name": "python",
   "nbconvert_exporter": "python",
   "pygments_lexer": "ipython3",
   "version": "3.12.0"
  }
 },
 "nbformat": 4,
 "nbformat_minor": 2
}
