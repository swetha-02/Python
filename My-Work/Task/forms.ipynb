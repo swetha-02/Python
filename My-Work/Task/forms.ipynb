{
 "cells": [
  {
   "cell_type": "code",
   "execution_count": 1,
   "metadata": {},
   "outputs": [
    {
     "name": "stdout",
     "output_type": "stream",
     "text": [
      "Choice: 1.Doctor Application\n",
      "Your Details:Swetha,21,John,5,12 March\n"
     ]
    }
   ],
   "source": [
    "forms=int(input(\"Choice of your application: 1.Doctor application 2.Gym membership 3.Yoga Membership 4.User Login 5.College Application\"))\n",
    "if (forms==1):\n",
    "    name = input(\"Enter your name: \")\n",
    "    age = input(\"Enter your age:\")\n",
    "    docname=input(\"Enter your preferred Doctor name:\")\n",
    "    time=input(\"Enter the time for consultation\")\n",
    "    date=input(\"Enter the date you prefer\")\n",
    "print(\"Choice: 1.Doctor Application\")\n",
    "print(f\"Your Details:{name},{age},{docname},{time},{date}\")"
   ]
  },
  {
   "cell_type": "code",
   "execution_count": null,
   "metadata": {},
   "outputs": [],
   "source": []
  }
 ],
 "metadata": {
  "kernelspec": {
   "display_name": "venv",
   "language": "python",
   "name": "python3"
  },
  "language_info": {
   "codemirror_mode": {
    "name": "ipython",
    "version": 3
   },
   "file_extension": ".py",
   "mimetype": "text/x-python",
   "name": "python",
   "nbconvert_exporter": "python",
   "pygments_lexer": "ipython3",
   "version": "3.12.0"
  }
 },
 "nbformat": 4,
 "nbformat_minor": 2
}
