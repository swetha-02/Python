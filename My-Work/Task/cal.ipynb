{
 "cells": [
  {
   "cell_type": "code",
   "execution_count": 10,
   "metadata": {},
   "outputs": [
    {
     "name": "stdout",
     "output_type": "stream",
     "text": [
      "The Multpication of 12 and 2 is\n",
      "24\n"
     ]
    }
   ],
   "source": [
    "import calc\n",
    "arithmetic=int(input(\"What option do you chose?  1.Addition 2.Subtraction 3.Multiplication 4.Division 5.Pecentage\"))\n",
    "num1=int(input(\"Enter the first number:\"))\n",
    "num2=int(input(\"Enter the second number:\"))\n",
    "if (arithmetic==1):\n",
    "    print(f\"The Addition of {num1} and {num2} is\")\n",
    "    print(calc.add(num1,num2))\n",
    "elif (arithmetic==2):\n",
    "    print(f\"The Subtraction of {num1} and {num2} is\")\n",
    "    print(calc.sub(num1,num2))\n",
    "elif (arithmetic==3):\n",
    "    print(f\"The Multpication of {num1} and {num2} is\")\n",
    "    print(calc.mul(num1,num2))\n",
    "elif (arithmetic==4):\n",
    "    print(f\"The Division of {num1} and {num2} is\")\n",
    "    print(calc.division(num1,num2))\n",
    "else:\n",
    "    print(f\"The Percentage of {num1} and {num2} is\")\n",
    "    print(calc.percent(num1,num2))"
   ]
  },
  {
   "cell_type": "code",
   "execution_count": null,
   "metadata": {},
   "outputs": [],
   "source": []
  }
 ],
 "metadata": {
  "kernelspec": {
   "display_name": "venv",
   "language": "python",
   "name": "python3"
  },
  "language_info": {
   "codemirror_mode": {
    "name": "ipython",
    "version": 3
   },
   "file_extension": ".py",
   "mimetype": "text/x-python",
   "name": "python",
   "nbconvert_exporter": "python",
   "pygments_lexer": "ipython3",
   "version": "3.12.0"
  }
 },
 "nbformat": 4,
 "nbformat_minor": 2
}
