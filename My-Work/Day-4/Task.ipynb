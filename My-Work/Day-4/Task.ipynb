{
 "cells": [
  {
   "cell_type": "markdown",
   "metadata": {},
   "source": [
    "Arithmetic operators"
   ]
  },
  {
   "cell_type": "code",
   "execution_count": 1,
   "metadata": {},
   "outputs": [
    {
     "name": "stdout",
     "output_type": "stream",
     "text": [
      "36\n"
     ]
    }
   ],
   "source": [
    "num1=24\n",
    "num2=12\n",
    "while num1!=num2:\n",
    "    break\n",
    "print(num1+num2)"
   ]
  },
  {
   "cell_type": "code",
   "execution_count": 2,
   "metadata": {},
   "outputs": [
    {
     "name": "stdout",
     "output_type": "stream",
     "text": [
      "60\n"
     ]
    }
   ],
   "source": [
    "value1=100\n",
    "value2=40\n",
    "while value1!=value2 & value1>value2:\n",
    "    break\n",
    "print(value1-value2)"
   ]
  },
  {
   "cell_type": "code",
   "execution_count": 4,
   "metadata": {},
   "outputs": [
    {
     "name": "stdout",
     "output_type": "stream",
     "text": [
      "5\n",
      "10\n",
      "15\n",
      "20\n",
      "25\n",
      "30\n",
      "35\n",
      "40\n",
      "45\n"
     ]
    }
   ],
   "source": [
    "num=5\n",
    "for i in range(1,10):\n",
    "    print(i*num)\n",
    "    i += 1"
   ]
  },
  {
   "cell_type": "code",
   "execution_count": 5,
   "metadata": {},
   "outputs": [
    {
     "name": "stdout",
     "output_type": "stream",
     "text": [
      "4.0\n"
     ]
    }
   ],
   "source": [
    "num1=20\n",
    "num2=5\n",
    "if num1!=num2:\n",
    "    print(num1/num2)\n",
    "else:\n",
    "    print(\"Error\")"
   ]
  },
  {
   "cell_type": "code",
   "execution_count": 9,
   "metadata": {},
   "outputs": [
    {
     "name": "stdout",
     "output_type": "stream",
     "text": [
      "Invalid\n"
     ]
    }
   ],
   "source": [
    "num1=20\n",
    "num2=25\n",
    "if num1>num2:\n",
    "    print(num1%num2)\n",
    "else:\n",
    "    print(\"Invalid\")"
   ]
  },
  {
   "cell_type": "code",
   "execution_count": 11,
   "metadata": {},
   "outputs": [
    {
     "name": "stdout",
     "output_type": "stream",
     "text": [
      "Error\n"
     ]
    }
   ],
   "source": [
    "num1=50\n",
    "num2=45\n",
    "if num1>num2:\n",
    "    print(num1//num2)\n",
    "else:\n",
    "    print(\"Error\")"
   ]
  },
  {
   "cell_type": "code",
   "execution_count": 12,
   "metadata": {},
   "outputs": [
    {
     "name": "stdout",
     "output_type": "stream",
     "text": [
      "1\n",
      "4\n",
      "9\n",
      "16\n",
      "25\n",
      "36\n",
      "49\n",
      "64\n",
      "81\n"
     ]
    }
   ],
   "source": [
    "i=1\n",
    "for i in range(1,10):\n",
    "    print(i**2)"
   ]
  },
  {
   "cell_type": "markdown",
   "metadata": {},
   "source": [
    "Logical Operators"
   ]
  },
  {
   "cell_type": "code",
   "execution_count": 13,
   "metadata": {},
   "outputs": [
    {
     "name": "stdout",
     "output_type": "stream",
     "text": [
      "60\n"
     ]
    }
   ],
   "source": [
    "value1=100\n",
    "value2=40\n",
    "while value1!=value2 and value1>value2:\n",
    "    break\n",
    "print(value1-value2)"
   ]
  },
  {
   "cell_type": "code",
   "execution_count": 16,
   "metadata": {},
   "outputs": [
    {
     "name": "stdout",
     "output_type": "stream",
     "text": [
      "True\n"
     ]
    }
   ],
   "source": [
    "num1=12\n",
    "num1=23\n",
    "if num1!=num2 or num1>num2:\n",
    "    print(True) \n",
    "else:\n",
    "    print(False)\n"
   ]
  },
  {
   "cell_type": "code",
   "execution_count": 5,
   "metadata": {},
   "outputs": [
    {
     "name": "stdout",
     "output_type": "stream",
     "text": [
      "num1 is true\n"
     ]
    }
   ],
   "source": [
    "num1=True\n",
    "num2=False\n",
    "if not num1:\n",
    "    print(\"num1 is false\")\n",
    "else:\n",
    "    print(\"num1 is true\")"
   ]
  },
  {
   "cell_type": "markdown",
   "metadata": {},
   "source": [
    "Bitwise operators"
   ]
  },
  {
   "cell_type": "code",
   "execution_count": 18,
   "metadata": {},
   "outputs": [
    {
     "name": "stdout",
     "output_type": "stream",
     "text": [
      "140\n"
     ]
    }
   ],
   "source": [
    "value1=100\n",
    "value2=40\n",
    "while value1!=value2 & value1>value2:\n",
    "    break\n",
    "print(value1+value2)"
   ]
  },
  {
   "cell_type": "code",
   "execution_count": 19,
   "metadata": {},
   "outputs": [
    {
     "name": "stdout",
     "output_type": "stream",
     "text": [
      "60\n"
     ]
    }
   ],
   "source": [
    "value1=100\n",
    "value2=40\n",
    "while value1!=value2 | value1>value2:\n",
    "    break\n",
    "print(value1-value2)"
   ]
  },
  {
   "cell_type": "code",
   "execution_count": 8,
   "metadata": {},
   "outputs": [
    {
     "name": "stdout",
     "output_type": "stream",
     "text": [
      "-2\n"
     ]
    }
   ],
   "source": [
    "num1=1\n",
    "if num1!=0:\n",
    "    print(~num1)\n"
   ]
  },
  {
   "cell_type": "code",
   "execution_count": 23,
   "metadata": {},
   "outputs": [
    {
     "name": "stdout",
     "output_type": "stream",
     "text": [
      "2.5\n"
     ]
    }
   ],
   "source": [
    "value1=100\n",
    "value2=40\n",
    "while value1!=value2 ^ value1<value2:\n",
    "    break\n",
    "print(value1/value2)"
   ]
  },
  {
   "cell_type": "code",
   "execution_count": 27,
   "metadata": {},
   "outputs": [
    {
     "name": "stdout",
     "output_type": "stream",
     "text": [
      "20\n"
     ]
    }
   ],
   "source": [
    "value1=100\n",
    "value2=40\n",
    "while value1!=value2 >> value1>value2:\n",
    "    break\n",
    "print(value1%value2)"
   ]
  },
  {
   "cell_type": "code",
   "execution_count": 26,
   "metadata": {},
   "outputs": [
    {
     "name": "stdout",
     "output_type": "stream",
     "text": [
      "4000\n"
     ]
    }
   ],
   "source": [
    "value1=100\n",
    "value2=40\n",
    "while value1!=value2 << value1>value2:\n",
    "    break\n",
    "print(value1*value2)"
   ]
  },
  {
   "cell_type": "markdown",
   "metadata": {},
   "source": [
    "Comparison Operators"
   ]
  },
  {
   "cell_type": "code",
   "execution_count": 28,
   "metadata": {},
   "outputs": [
    {
     "name": "stdout",
     "output_type": "stream",
     "text": [
      "Eligible\n"
     ]
    }
   ],
   "source": [
    "age=21\n",
    "if age>18:\n",
    "    print(\"Eligible\")\n",
    "else:\n",
    "    print(\"Not eligible\")"
   ]
  },
  {
   "cell_type": "code",
   "execution_count": 29,
   "metadata": {},
   "outputs": [
    {
     "name": "stdout",
     "output_type": "stream",
     "text": [
      "Greater than\n"
     ]
    }
   ],
   "source": [
    "value=150\n",
    "if value<101:\n",
    "    print(\"Lesser than\")\n",
    "else:\n",
    "    print(\"Greater than\")"
   ]
  },
  {
   "cell_type": "code",
   "execution_count": 30,
   "metadata": {},
   "outputs": [
    {
     "name": "stdout",
     "output_type": "stream",
     "text": [
      "Not enough\n"
     ]
    }
   ],
   "source": [
    "salary=120000\n",
    "if salary <= 150000:\n",
    "    print(\"Not enough\")\n",
    "else:\n",
    "    print(\"Enough\")"
   ]
  },
  {
   "cell_type": "code",
   "execution_count": 32,
   "metadata": {},
   "outputs": [
    {
     "name": "stdout",
     "output_type": "stream",
     "text": [
      "A large group\n"
     ]
    }
   ],
   "source": [
    "persons=19\n",
    "if persons>=10 & persons<=20:\n",
    "    print(\"A large group\")\n",
    "else:\n",
    "    print(\"A group\")"
   ]
  },
  {
   "cell_type": "code",
   "execution_count": 36,
   "metadata": {},
   "outputs": [
    {
     "name": "stdout",
     "output_type": "stream",
     "text": [
      "Both are different products\n"
     ]
    }
   ],
   "source": [
    "product1=\"Pen\"\n",
    "product2=\"Bike\"\n",
    "if product1!=product2:\n",
    "    print(\"Both are different products\")\n",
    "else:\n",
    "    print(\"Both are same product\")"
   ]
  },
  {
   "cell_type": "code",
   "execution_count": 37,
   "metadata": {},
   "outputs": [
    {
     "name": "stdout",
     "output_type": "stream",
     "text": [
      "Both are of same age\n"
     ]
    }
   ],
   "source": [
    "age_Sara=21\n",
    "age_Swe=21\n",
    "if age_Sara == age_Swe:\n",
    "    print(\"Both are of same age\")\n",
    "else:\n",
    "    print(\"Both are of different age\")"
   ]
  },
  {
   "cell_type": "markdown",
   "metadata": {},
   "source": [
    "Membership operator"
   ]
  },
  {
   "cell_type": "code",
   "execution_count": 38,
   "metadata": {},
   "outputs": [
    {
     "name": "stdout",
     "output_type": "stream",
     "text": [
      "Is in array\n"
     ]
    }
   ],
   "source": [
    "arr=[\"Swetha\",21,\"Immanuel\",\"Joshua\",20]\n",
    "if \"Swetha\" in arr:\n",
    "    print(\"Is in array\")\n",
    "else:\n",
    "    print(\"Not in array\")"
   ]
  },
  {
   "cell_type": "code",
   "execution_count": 39,
   "metadata": {},
   "outputs": [
    {
     "name": "stdout",
     "output_type": "stream",
     "text": [
      "TRUE\n"
     ]
    }
   ],
   "source": [
    "arr=[\"Swetha\",21,\"Immanuel\",20]\n",
    "if \"Joshua\" not in arr:\n",
    "    print(\"TRUE\")\n",
    "else:\n",
    "    print(\"FALSE\")"
   ]
  },
  {
   "cell_type": "markdown",
   "metadata": {},
   "source": [
    "Identity operators"
   ]
  },
  {
   "cell_type": "code",
   "execution_count": 9,
   "metadata": {},
   "outputs": [
    {
     "name": "stdout",
     "output_type": "stream",
     "text": [
      "Same\n"
     ]
    }
   ],
   "source": [
    "a=10\n",
    "b=10\n",
    "if a is b:\n",
    "    print(\"Same\")\n",
    "else:\n",
    "    print('Different')"
   ]
  },
  {
   "cell_type": "code",
   "execution_count": 10,
   "metadata": {},
   "outputs": [
    {
     "name": "stdout",
     "output_type": "stream",
     "text": [
      "Differnt\n"
     ]
    }
   ],
   "source": [
    "a=10\n",
    "b=5\n",
    "if a is not b:\n",
    "    print(\"Differnt\")\n",
    "else:\n",
    "    print('Same')"
   ]
  },
  {
   "cell_type": "markdown",
   "metadata": {},
   "source": [
    "Assignment Operators"
   ]
  },
  {
   "cell_type": "code",
   "execution_count": 40,
   "metadata": {},
   "outputs": [
    {
     "name": "stdout",
     "output_type": "stream",
     "text": [
      "5 is assigned to a\n"
     ]
    }
   ],
   "source": [
    "a=5\n",
    "if a==5:\n",
    "    print(\"5 is assigned to a\")\n",
    "else:\n",
    "    print(\"Not assigned\")"
   ]
  },
  {
   "cell_type": "code",
   "execution_count": 13,
   "metadata": {},
   "outputs": [
    {
     "name": "stdout",
     "output_type": "stream",
     "text": [
      "1\n",
      "2\n",
      "3\n",
      "4\n",
      "5\n",
      "6\n",
      "7\n",
      "8\n",
      "9\n",
      "10\n",
      "11\n"
     ]
    }
   ],
   "source": [
    "i=0\n",
    "for i in range(0,11):\n",
    "    i += 1\n",
    "    print(i)"
   ]
  },
  {
   "cell_type": "code",
   "execution_count": 32,
   "metadata": {},
   "outputs": [
    {
     "name": "stdout",
     "output_type": "stream",
     "text": [
      "5\n",
      "0\n",
      "-5\n",
      "-10\n",
      "-15\n"
     ]
    }
   ],
   "source": [
    "a=10\n",
    "b=5\n",
    "for i in range(5):\n",
    "    a -= b\n",
    "    print(a)"
   ]
  },
  {
   "cell_type": "code",
   "execution_count": 31,
   "metadata": {},
   "outputs": [
    {
     "name": "stdout",
     "output_type": "stream",
     "text": [
      "50\n",
      "250\n",
      "1250\n",
      "6250\n",
      "31250\n"
     ]
    }
   ],
   "source": [
    "a=10\n",
    "b=5\n",
    "for i in range(5):\n",
    "    a *= b\n",
    "    print(a)"
   ]
  },
  {
   "cell_type": "code",
   "execution_count": 30,
   "metadata": {},
   "outputs": [
    {
     "name": "stdout",
     "output_type": "stream",
     "text": [
      "2.0\n",
      "0.4\n",
      "0.08\n",
      "0.016\n",
      "0.0032\n"
     ]
    }
   ],
   "source": [
    "a=10\n",
    "b=5\n",
    "for i in range(5):\n",
    "    a /= b\n",
    "    print(a)"
   ]
  },
  {
   "cell_type": "code",
   "execution_count": 34,
   "metadata": {},
   "outputs": [
    {
     "name": "stdout",
     "output_type": "stream",
     "text": [
      "0\n",
      "0\n",
      "0\n",
      "0\n",
      "0\n"
     ]
    }
   ],
   "source": [
    "a=10\n",
    "b=5\n",
    "for i in range(5):\n",
    "    a %= b\n",
    "    print(a)"
   ]
  },
  {
   "cell_type": "code",
   "execution_count": 35,
   "metadata": {},
   "outputs": [
    {
     "name": "stdout",
     "output_type": "stream",
     "text": [
      "5\n",
      "5\n",
      "5\n",
      "5\n",
      "5\n"
     ]
    }
   ],
   "source": [
    "a=10\n",
    "b=5\n",
    "for i in range(5):\n",
    "    a //= b\n",
    "    print(b)"
   ]
  },
  {
   "cell_type": "code",
   "execution_count": 36,
   "metadata": {},
   "outputs": [
    {
     "name": "stdout",
     "output_type": "stream",
     "text": [
      "5\n",
      "5\n",
      "5\n",
      "5\n",
      "5\n"
     ]
    }
   ],
   "source": [
    "a=10\n",
    "b=5\n",
    "for i in range(5):\n",
    "    a **= b\n",
    "    print(b)"
   ]
  },
  {
   "cell_type": "markdown",
   "metadata": {},
   "source": [
    "TASK-HOTEL BILL"
   ]
  },
  {
   "cell_type": "code",
   "execution_count": 96,
   "metadata": {},
   "outputs": [],
   "source": [
    "import hotel\n",
    "food=int(input(\"Which menu do you chose? 1.Breakfast 2.Lunch 3.Dinner\"))\n",
    "i=0\n",
    "foods=[]\n",
    "quantity=[]\n",
    "if(food==1):\n",
    "    while(i!=4):\n",
    "        i=int(input(\"What do you prefer? 1.Idly 2.Dosa 3.Pongal 4.Enough\"))\n",
    "        if(i==1):\n",
    "            j=int(input(\"How much quantity of idly you need\"))\n",
    "            quantity.append(j)\n",
    "            foods.append(i)\n",
    "        elif(i==2):\n",
    "            j=int(input(\"How much quantity of Dosa you need\"))\n",
    "            quantity.append(j)\n",
    "            foods.append(i)\n",
    "        elif(i==3):\n",
    "            j=int(input(\"How much quantity of Pongal you need\"))\n",
    "            quantity.append(j)\n",
    "            foods.append(i)\n",
    "        else:\n",
    "            break\n",
    "if(food==2):\n",
    "    while(i!=4):\n",
    "        i=int(input(\"What do you prefer? 1.Sambhar Rice 2.Lemon Rice 3.Variety Rice 4.Enough\"))\n",
    "        if(i==1):\n",
    "            j=int(input(\"How much quantity of Sambar Rice you need\"))\n",
    "            quantity.append(j)\n",
    "            foods.append(i)\n",
    "        elif(i==2):\n",
    "            j=int(input(\"How much quantity of Lemon Rice you need\"))\n",
    "            quantity.append(j)\n",
    "            foods.append(i)\n",
    "        elif(i==3):\n",
    "            j=int(input(\"How much quantity of Variety Rice you need\"))\n",
    "            quantity.append(j)\n",
    "            foods.append(i)\n",
    "        else:\n",
    "            break\n",
    "if(food==3):\n",
    "    while(i!=4):\n",
    "        i=int(input(\"What do you prefer? 1.Chapathi 2.Masal Dosa 3.Barotta \"))\n",
    "        if(i==1):\n",
    "            j=int(input(\"How much quantity of Chapathi you need\"))\n",
    "            quantity.append(j)\n",
    "            foods.append(i)\n",
    "        elif(i==2):\n",
    "            j=int(input(\"How much quantity of Masal Dosa you need\"))\n",
    "            quantity.append(j)\n",
    "            foods.append(i)\n",
    "        elif(i==3):\n",
    "            j=int(input(\"How much quantity of Barotta you need\"))\n",
    "            quantity.append(j)\n",
    "            foods.append(i)\n",
    "        else:\n",
    "            break\n",
    "    "
   ]
  },
  {
   "cell_type": "code",
   "execution_count": 100,
   "metadata": {},
   "outputs": [
    {
     "name": "stdout",
     "output_type": "stream",
     "text": [
      "\t\t\t\t\t\t\t\t\t\t\tBill number: 27921\n",
      "\t\t\t\t\t\t A2B Hotel\n",
      "\tS.I.NO\t\tFood items\t\tQuantity\t\tRate\t\tTotal\n"
     ]
    },
    {
     "ename": "TypeError",
     "evalue": "unsupported operand type(s) for +=: 'int' and 'str'",
     "output_type": "error",
     "traceback": [
      "\u001b[1;31m---------------------------------------------------------------------------\u001b[0m",
      "\u001b[1;31mTypeError\u001b[0m                                 Traceback (most recent call last)",
      "Cell \u001b[1;32mIn[100], line 11\u001b[0m\n\u001b[0;32m      9\u001b[0m \u001b[38;5;28;01mfor\u001b[39;00m i \u001b[38;5;129;01min\u001b[39;00m foods:\n\u001b[0;32m     10\u001b[0m     \u001b[38;5;28;01mif\u001b[39;00m food\u001b[38;5;241m==\u001b[39m\u001b[38;5;241m1\u001b[39m:\n\u001b[1;32m---> 11\u001b[0m         \u001b[43mtotal\u001b[49m\u001b[38;5;241;43m+\u001b[39;49m\u001b[38;5;241;43m=\u001b[39;49m\u001b[43mquantity\u001b[49m\u001b[43m[\u001b[49m\u001b[43mk\u001b[49m\u001b[43m]\u001b[49m\u001b[38;5;241;43m*\u001b[39;49m\u001b[43mhotel\u001b[49m\u001b[38;5;241;43m.\u001b[39;49m\u001b[43mbf\u001b[49m\u001b[38;5;241;43m.\u001b[39;49m\u001b[43mget\u001b[49m\u001b[43m(\u001b[49m\u001b[43mi\u001b[49m\u001b[43m)\u001b[49m\n\u001b[0;32m     12\u001b[0m         \u001b[38;5;28mprint\u001b[39m(\u001b[38;5;124m\"\u001b[39m\u001b[38;5;130;01m\\t\u001b[39;00m\u001b[38;5;124m\"\u001b[39m,l,\u001b[38;5;124m\"\u001b[39m\u001b[38;5;130;01m\\t\u001b[39;00m\u001b[38;5;130;01m\\t\u001b[39;00m\u001b[38;5;124m\"\u001b[39m,hotel\u001b[38;5;241m.\u001b[39mbf\u001b[38;5;241m.\u001b[39mget(i),\u001b[38;5;124m\"\u001b[39m\u001b[38;5;130;01m\\t\u001b[39;00m\u001b[38;5;130;01m\\t\u001b[39;00m\u001b[38;5;130;01m\\t\u001b[39;00m\u001b[38;5;124m\"\u001b[39m,quantity[k],\u001b[38;5;124m\"\u001b[39m\u001b[38;5;130;01m\\t\u001b[39;00m\u001b[38;5;130;01m\\t\u001b[39;00m\u001b[38;5;130;01m\\t\u001b[39;00m\u001b[38;5;124m\"\u001b[39m,hotel\u001b[38;5;241m.\u001b[39mbf\u001b[38;5;241m.\u001b[39mget(i),\u001b[38;5;124m\"\u001b[39m\u001b[38;5;130;01m\\t\u001b[39;00m\u001b[38;5;130;01m\\t\u001b[39;00m\u001b[38;5;124m\"\u001b[39m,quantity[k]\u001b[38;5;241m*\u001b[39mhotel\u001b[38;5;241m.\u001b[39mbreak1\u001b[38;5;241m.\u001b[39mget(i))\n\u001b[0;32m     13\u001b[0m         k\u001b[38;5;241m=\u001b[39mk\u001b[38;5;241m+\u001b[39m\u001b[38;5;241m1\u001b[39m\n",
      "\u001b[1;31mTypeError\u001b[0m: unsupported operand type(s) for +=: 'int' and 'str'"
     ]
    }
   ],
   "source": [
    "import random \n",
    "n=random.randint(10000,99999) \n",
    "print(\"\\t\\t\\t\\t\\t\\t\\t\\t\\t\\t\\tBill number:\",n)\n",
    "print(\"\\t\\t\\t\\t\\t\\t\",hotel.hotel_name)\n",
    "print(\"\\tS.I.NO\\t\\tFood items\\t\\tQuantity\\t\\tRate\\t\\tTotal\")\n",
    "k=0\n",
    "l=1\n",
    "total=0\n",
    "for i in foods:\n",
    "    if food==1:\n",
    "        total+=quantity[k]*hotel.bf.get(i)\n",
    "        print(\"\\t\",l,\"\\t\\t\",hotel.bf.get(i),\"\\t\\t\\t\",quantity[k],\"\\t\\t\\t\",hotel.bf.get(i),\"\\t\\t\",quantity[k]*hotel.break1.get(i))\n",
    "        k=k+1\n",
    "        l=l+1\n",
    "    elif food==2:\n",
    "        total += quantity[k]*hotel.lunch1.get(i)\n",
    "        print(\"\\t\",l,\"\\t\\t\",hotel.lunch.get(i),\"\\t\\t\\t\",quantity[k],\"\\t\\t\\t\",hotel.lunch1.get(i),\"\\t\\t\",quantity[k]*hotel.lunch1.get(i))\n",
    "        k=k+1\n",
    "        l=l+1\n",
    "    else:\n",
    "        total+=quantity[k]*hotel.dinner1.get(i)\n",
    "        print(\"\\t\",l,\"\\t\\t\",hotel.dinner.get(i),\"\\t\\t\\t\",quantity[k],\"\\t\\t\\t\",hotel.dinner1.get(i),\"\\t\\t\",quantity[k]*hotel.dinner1.get(i))\n",
    "        k=k+1\n",
    "        l=l+1\n",
    "print(\"\\t\\t\\t\\t\\t\\t\\t\\t\\t\\t\\t\\tTotal\",total)"
   ]
  },
  {
   "cell_type": "markdown",
   "metadata": {},
   "source": [
    "Give me the median 200 letters, strip out all the gaps,need every 12th letter.Combine the 12th word into reverse string.Replace 'r' into space.The starting the word with capital letter"
   ]
  },
  {
   "cell_type": "code",
   "execution_count": 18,
   "metadata": {},
   "outputs": [],
   "source": [
    "msg=\"\"\"What is Lorem Ipsum?\n",
    "\n",
    "Lorem Ipsum is simply dummy text of the printing and typesetting industry. Lorem Ipsum has been the industry's standard dummy text ever since the 1500s, when an unknown printer took a galley of type and scrambled it to make a type specimen book. It has survived not only five centuries, but also the leap into electronic typesetting, remaining essentially unchanged. It was popularised in the 1960s with the release of Letraset sheets containing Lorem Ipsum passages, and more recently with desktop publishing software like Aldus PageMaker including versions of Lorem Ipsum.\n",
    "Why do we use it?\n",
    "\n",
    "It is a long established fact that a reader will be distracted by the readable content of a page when looking at its layout. The point of using Lorem Ipsum is that it has a more-or-less normal distribution of letters, as opposed to using 'Content here, content here', making it look like readable English. Many desktop publishing packages and web page editors now use Lorem Ipsum as their default model text, and a search for 'lorem ipsum' will uncover many web sites still in their infancy. Various versions have evolved over the years, sometimes by accident, sometimes on purpose (injected humour and the like).\n",
    "\n",
    "Where does it come from?\n",
    "\n",
    "Contrary to popular belief, Lorem Ipsum is not simply random text. It has roots in a piece of classical Latin literature from 45 BC, making it over 2000 years old. Richard McClintock, a Latin professor at Hampden-Sydney College in Virginia, looked up one of the more obscure Latin words, consectetur, from a Lorem Ipsum passage, and going through the cites of the word in classical literature, discovered the undoubtable source. Lorem Ipsum comes from sections 1.10.32 and 1.10.33 of \"de Finibus Bonorum et Malorum\" (The Extremes of Good and Evil) by Cicero, written in 45 BC. This book is a treatise on the theory of ethics, very popular during the Renaissance. The first line of Lorem Ipsum, \"Lorem ipsum dolor sit amet..\", comes from a line in section 1.10.32.\n",
    "\n",
    "The standard chunk of Lorem Ipsum used since the 1500s is reproduced below for those interested. Sections 1.10.32 and 1.10.33 from \"de Finibus Bonorum et Malorum\" by Cicero are also reproduced in their exact original form, accompanied by English versions from the 1914 translation by H. Rackham.\n",
    "Where can I get some?\n",
    "\n",
    "There are many variations of passages of Lorem Ipsum available, but the majority have suffered alteration in some form, by injected humour, or randomised words which don't look even slightly believable. If you are going to use a passage of Lorem Ipsum, you need to be sure there isn't anything embarrassing hidden in the middle of text. All the Lorem Ipsum generators on the Internet tend to repeat predefined chunks as necessary, making this the first true generator on the Internet. It uses a dictionary of over 200 Latin words, combined with a handful of model sentence structures, to generate Lorem Ipsum which looks reasonable. The generated Lorem Ipsum is therefore always free from repetition, injected humour, or non-characteristic words etc.\"\"\"\n"
   ]
  },
  {
   "cell_type": "markdown",
   "metadata": {},
   "source": [
    "Get middle 200 words"
   ]
  },
  {
   "cell_type": "code",
   "execution_count": 57,
   "metadata": {},
   "outputs": [
    {
     "name": "stdout",
     "output_type": "stream",
     "text": [
      "3091\n",
      "come from?\n",
      "\n",
      "Contrary to popular belief, Lorem Ipsum is not simply random text. It has roots in a piece of classical Latin literature from 45 BC, making it over 2000 years old. Richard McClintock, a Latin professor at Hampden-Sydney College in Virginia, looked up one of the more obscure Latin words, consectetur, from a Lorem Ipsum passage, and going through the cites of the word in classical literature, discovered the undoubtable source. Lorem Ipsum comes from sections 1.10.32 and 1.10.33 of \"de Finibus Bonorum et Malorum\" (The Extremes of Good and Evil) by Cicero, written in 45 BC. This book i\n"
     ]
    }
   ],
   "source": [
    "length=len(msg)\n",
    "print(length)\n",
    "submsg=msg[1245:1845]\n",
    "print(submsg)\n"
   ]
  },
  {
   "cell_type": "markdown",
   "metadata": {},
   "source": [
    "Remove the gaps"
   ]
  },
  {
   "cell_type": "code",
   "execution_count": 58,
   "metadata": {},
   "outputs": [
    {
     "name": "stdout",
     "output_type": "stream",
     "text": [
      "comefrom?Contrarytopopularbelief,LoremIpsumisnotsimplyrandomtext.IthasrootsinapieceofclassicalLatinliteraturefrom45BC,makingitover2000yearsold.RichardMcClintock,aLatinprofessoratHampden-SydneyCollegeinVirginia,lookeduponeofthemoreobscureLatinwords,consectetur,fromaLoremIpsumpassage,andgoingthroughthecitesofthewordinclassicalliterature,discoveredtheundoubtablesource.LoremIpsumcomesfromsections1.10.32and1.10.33of\"deFinibusBonorumetMalorum\"(TheExtremesofGoodandEvil)byCicero,writtenin45BC.Thisbooki\n",
      "499\n"
     ]
    }
   ],
   "source": [
    "newmsg=submsg.replace(\" \",\"\").replace(\"\\n\",\"\")\n",
    "print(newmsg)\n",
    "length1=len(newmsg)\n",
    "print(length1)\n"
   ]
  },
  {
   "cell_type": "markdown",
   "metadata": {},
   "source": [
    "Every 12th letter of the word"
   ]
  },
  {
   "cell_type": "code",
   "execution_count": 59,
   "metadata": {},
   "outputs": [
    {
     "name": "stdout",
     "output_type": "stream",
     "text": [
      "ctaestoftek0itrmCgurieaaieoa,hemr.0iteoyti\n"
     ]
    }
   ],
   "source": [
    "slicing=newmsg[::12]\n",
    "print(slicing)\n"
   ]
  },
  {
   "cell_type": "markdown",
   "metadata": {},
   "source": [
    "Reverse the string"
   ]
  },
  {
   "cell_type": "code",
   "execution_count": 60,
   "metadata": {},
   "outputs": [
    {
     "name": "stdout",
     "output_type": "stream",
     "text": [
      "ityoeti0.rmeh,aoeiaaeirugCmrti0ketfotseatc\n"
     ]
    }
   ],
   "source": [
    "slicing1=slicing[::-1]\n",
    "print(slicing1)\n"
   ]
  },
  {
   "cell_type": "markdown",
   "metadata": {},
   "source": [
    "Replace 'r' with space"
   ]
  },
  {
   "cell_type": "code",
   "execution_count": 61,
   "metadata": {},
   "outputs": [
    {
     "name": "stdout",
     "output_type": "stream",
     "text": [
      "['ityoeti0.', 'meh,aoeiaaei', 'ugCm', 'ti0ketfotseatc']\n"
     ]
    }
   ],
   "source": [
    "new_word=slicing1.split(\"r\")\n",
    "print(new_word)\n"
   ]
  },
  {
   "cell_type": "markdown",
   "metadata": {},
   "source": [
    "Join the letters to form a new word"
   ]
  },
  {
   "cell_type": "code",
   "execution_count": 62,
   "metadata": {},
   "outputs": [
    {
     "name": "stdout",
     "output_type": "stream",
     "text": [
      "ityoeti0. meh,aoeiaaei ugCm ti0ketfotseatc\n"
     ]
    }
   ],
   "source": [
    "final_word=' '.join(new_word)\n",
    "print(final_word)"
   ]
  },
  {
   "cell_type": "markdown",
   "metadata": {},
   "source": [
    "Make the first letter capitalize"
   ]
  },
  {
   "cell_type": "code",
   "execution_count": 63,
   "metadata": {},
   "outputs": [
    {
     "name": "stdout",
     "output_type": "stream",
     "text": [
      "Ityoeti0. Meh,Aoeiaaei Ugcm Ti0Ketfotseatc\n"
     ]
    }
   ],
   "source": [
    "title_case=final_word.title()\n",
    "print(title_case)"
   ]
  },
  {
   "cell_type": "markdown",
   "metadata": {},
   "source": [
    "Create a file called bu.txt in write mode and write your professional details\n"
   ]
  },
  {
   "cell_type": "code",
   "execution_count": 66,
   "metadata": {},
   "outputs": [],
   "source": [
    "with open(\"BU.txt\",\"w+\") as file:\n",
    "    file.write(\"Name:Swetha\\nDesignation:Software Engineer Trainee\\nCompany Name:BUSOFT Tech\\nExperience:1 year\\nSkill Set:Python,HTML,CSS,JavaScript,SQL\")\n"
   ]
  },
  {
   "cell_type": "markdown",
   "metadata": {},
   "source": [
    "Generate the paragraph of Loreum Ipsum in txt format and count the number of words"
   ]
  },
  {
   "cell_type": "code",
   "execution_count": 72,
   "metadata": {},
   "outputs": [
    {
     "name": "stdout",
     "output_type": "stream",
     "text": [
      "500\n"
     ]
    }
   ],
   "source": [
    "with open(\"Loreum.txt\") as file:\n",
    "    content=file.read()\n",
    "    count_words=content.count(\" \")\n",
    "    print(count_words+1)"
   ]
  },
  {
   "cell_type": "markdown",
   "metadata": {},
   "source": [
    "Combine *args and **kwargs and display sum of two numbers for *args and product of two numbers for **kwargs"
   ]
  },
  {
   "cell_type": "code",
   "execution_count": 95,
   "metadata": {},
   "outputs": [
    {
     "name": "stdout",
     "output_type": "stream",
     "text": [
      "3\n",
      "num1:12\n",
      "num2:2\n",
      "24\n"
     ]
    }
   ],
   "source": [
    "def swe(*args,**kwargs):\n",
    "    sum=0\n",
    "    for num in args:\n",
    "        sum += num\n",
    "    print(sum)\n",
    "\n",
    "    product=1\n",
    "    for key,value in kwargs.items():\n",
    "        print(f\"{key}:{value}\")\n",
    "        product*=value\n",
    "    print(product)\n",
    "swe(1,2,num1=12,num2=2)"
   ]
  },
  {
   "cell_type": "markdown",
   "metadata": {},
   "source": [
    "Write a function with default values for finding sum of two numbers and the numbers are 1 and 2 and check it values for function call with no arguments, function call with a single value, and function call with 2 values and function call with kwargs"
   ]
  },
  {
   "cell_type": "code",
   "execution_count": 76,
   "metadata": {},
   "outputs": [],
   "source": [
    "def default(x=1,y=2):\n",
    "    return x+y"
   ]
  },
  {
   "cell_type": "code",
   "execution_count": 77,
   "metadata": {},
   "outputs": [
    {
     "name": "stdout",
     "output_type": "stream",
     "text": [
      "3\n"
     ]
    }
   ],
   "source": [
    "print(default())"
   ]
  },
  {
   "cell_type": "code",
   "execution_count": 78,
   "metadata": {},
   "outputs": [
    {
     "name": "stdout",
     "output_type": "stream",
     "text": [
      "4\n"
     ]
    }
   ],
   "source": [
    "print(default(2))"
   ]
  },
  {
   "cell_type": "code",
   "execution_count": 79,
   "metadata": {},
   "outputs": [
    {
     "name": "stdout",
     "output_type": "stream",
     "text": [
      "7\n"
     ]
    }
   ],
   "source": [
    "print(default(3,4))"
   ]
  },
  {
   "cell_type": "code",
   "execution_count": 80,
   "metadata": {},
   "outputs": [
    {
     "name": "stdout",
     "output_type": "stream",
     "text": [
      "35\n"
     ]
    }
   ],
   "source": [
    "print(default(y = 20, x = 15))"
   ]
  }
 ],
 "metadata": {
  "kernelspec": {
   "display_name": "venv",
   "language": "python",
   "name": "python3"
  },
  "language_info": {
   "codemirror_mode": {
    "name": "ipython",
    "version": 3
   },
   "file_extension": ".py",
   "mimetype": "text/x-python",
   "name": "python",
   "nbconvert_exporter": "python",
   "pygments_lexer": "ipython3",
   "version": "3.12.0"
  }
 },
 "nbformat": 4,
 "nbformat_minor": 2
}
