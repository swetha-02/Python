{
 "cells": [
  {
   "cell_type": "code",
   "execution_count": 8,
   "metadata": {},
   "outputs": [
    {
     "name": "stdout",
     "output_type": "stream",
     "text": [
      "Swetha is 21 years old\n"
     ]
    }
   ],
   "source": [
    "name=\"Swetha\"\n",
    "age=21\n",
    "print(f\"{name} is {age} years old\")"
   ]
  },
  {
   "cell_type": "code",
   "execution_count": 9,
   "metadata": {},
   "outputs": [
    {
     "name": "stdout",
     "output_type": "stream",
     "text": [
      "Yamaha Rx100 and Black is the favorites of Swetha\n"
     ]
    }
   ],
   "source": [
    "name=\"Swetha\"\n",
    "favbike=\"Yamaha Rx100\"\n",
    "favcolor=\"Black\"\n",
    "print(favbike,\"and\",favcolor ,\"is the favorites of\", name)"
   ]
  },
  {
   "cell_type": "code",
   "execution_count": 10,
   "metadata": {},
   "outputs": [
    {
     "name": "stdout",
     "output_type": "stream",
     "text": [
      "Hello Swetha\n"
     ]
    }
   ],
   "source": [
    "name=input(\"Enter your name:\")\n",
    "print(\"Hello\",name)"
   ]
  },
  {
   "cell_type": "code",
   "execution_count": 12,
   "metadata": {},
   "outputs": [
    {
     "name": "stdout",
     "output_type": "stream",
     "text": [
      "Swetha is 21 years old, lives in Chennai .She is an Indian .Her favorites are Yamaha Rx100 and Black .She is an women with the average height of 5.2 and her hobby is Book Reading\n"
     ]
    }
   ],
   "source": [
    "name=\"Swetha\"\n",
    "age=21\n",
    "city=\"Chennai\"\n",
    "nationality=\"Indian\"\n",
    "favcolor=\"Black\"\n",
    "height=5.2\n",
    "favbike=\"Yamaha Rx100\"\n",
    "hobby=\"Book Reading\"\n",
    "female=True\n",
    "print(name,\"is\",age,\"years old, lives in\",city,\".She is an\",nationality,\".Her favorites are\",favbike,\"and\",favcolor,\n",
    "      \".She is an women with the average height of\",height,\"and her hobby is\",hobby)"
   ]
  },
  {
   "cell_type": "code",
   "execution_count": 1,
   "metadata": {},
   "outputs": [
    {
     "name": "stdout",
     "output_type": "stream",
     "text": [
      "You are 21 years old.\n"
     ]
    }
   ],
   "source": [
    "age=int(input(\"Enter your age:\"))\n",
    "print(\"You are\",age,\"years old.\",)"
   ]
  },
  {
   "cell_type": "code",
   "execution_count": 2,
   "metadata": {},
   "outputs": [
    {
     "name": "stdout",
     "output_type": "stream",
     "text": [
      "Eventhough Swetha is from Chennai her native is Mangalore\n"
     ]
    }
   ],
   "source": [
    "name=\"Swetha\"\n",
    "native=\"Mangalore\"\n",
    "city=\"Chennai\"\n",
    "print(\"Eventhough {} is from {} her native is {}\".format(name,city,native))"
   ]
  },
  {
   "cell_type": "code",
   "execution_count": 5,
   "metadata": {},
   "outputs": [
    {
     "name": "stdout",
     "output_type": "stream",
     "text": [
      "The population of Chennai is 200000\n"
     ]
    }
   ],
   "source": [
    "city=\"Chennai\"\n",
    "population=2_00_000\n",
    "print(\"The population of\",city,\"is\",population)"
   ]
  },
  {
   "cell_type": "code",
   "execution_count": 7,
   "metadata": {},
   "outputs": [
    {
     "name": "stdout",
     "output_type": "stream",
     "text": [
      "Swetha\n",
      "Sridhar\n",
      "Swetha\tSoftware Developer\n"
     ]
    }
   ],
   "source": [
    "print(\"Swetha\\nSridhar\")\n",
    "print(\"Swetha\\tSoftware Developer\")"
   ]
  },
  {
   "cell_type": "code",
   "execution_count": null,
   "metadata": {},
   "outputs": [],
   "source": [
    "this_class_room=40  #Snake-case\n",
    "thisClassRoom=40    #Camel-case\n",
    "ThisClassRoom=40    #Pascal-case\n"
   ]
  },
  {
   "cell_type": "code",
   "execution_count": 9,
   "metadata": {},
   "outputs": [
    {
     "name": "stdout",
     "output_type": "stream",
     "text": [
      "['False', 'None', 'True', 'and', 'as', 'assert', 'async', 'await', 'break', 'class', 'continue', 'def', 'del', 'elif', 'else', 'except', 'finally', 'for', 'from', 'global', 'if', 'import', 'in', 'is', 'lambda', 'nonlocal', 'not', 'or', 'pass', 'raise', 'return', 'try', 'while', 'with', 'yield']\n"
     ]
    }
   ],
   "source": [
    "import keyword\n",
    "key=keyword.kwlist\n",
    "print(key)"
   ]
  },
  {
   "cell_type": "code",
   "execution_count": 10,
   "metadata": {},
   "outputs": [
    {
     "name": "stdout",
     "output_type": "stream",
     "text": [
      "Help on bool object:\n",
      "\n",
      "class bool(int)\n",
      " |  bool(x) -> bool\n",
      " |\n",
      " |  Returns True when the argument x is true, False otherwise.\n",
      " |  The builtins True and False are the only two instances of the class bool.\n",
      " |  The class bool is a subclass of the class int, and cannot be subclassed.\n",
      " |\n",
      " |  Method resolution order:\n",
      " |      bool\n",
      " |      int\n",
      " |      object\n",
      " |\n",
      " |  Methods defined here:\n",
      " |\n",
      " |  __and__(self, value, /)\n",
      " |      Return self&value.\n",
      " |\n",
      " |  __invert__(self, /)\n",
      " |      ~self\n",
      " |\n",
      " |  __or__(self, value, /)\n",
      " |      Return self|value.\n",
      " |\n",
      " |  __rand__(self, value, /)\n",
      " |      Return value&self.\n",
      " |\n",
      " |  __repr__(self, /)\n",
      " |      Return repr(self).\n",
      " |\n",
      " |  __ror__(self, value, /)\n",
      " |      Return value|self.\n",
      " |\n",
      " |  __rxor__(self, value, /)\n",
      " |      Return value^self.\n",
      " |\n",
      " |  __xor__(self, value, /)\n",
      " |      Return self^value.\n",
      " |\n",
      " |  ----------------------------------------------------------------------\n",
      " |  Static methods defined here:\n",
      " |\n",
      " |  __new__(*args, **kwargs) from builtins.type\n",
      " |      Create and return a new object.  See help(type) for accurate signature.\n",
      " |\n",
      " |  ----------------------------------------------------------------------\n",
      " |  Methods inherited from int:\n",
      " |\n",
      " |  __abs__(self, /)\n",
      " |      abs(self)\n",
      " |\n",
      " |  __add__(self, value, /)\n",
      " |      Return self+value.\n",
      " |\n",
      " |  __bool__(self, /)\n",
      " |      True if self else False\n",
      " |\n",
      " |  __ceil__(...)\n",
      " |      Ceiling of an Integral returns itself.\n",
      " |\n",
      " |  __divmod__(self, value, /)\n",
      " |      Return divmod(self, value).\n",
      " |\n",
      " |  __eq__(self, value, /)\n",
      " |      Return self==value.\n",
      " |\n",
      " |  __float__(self, /)\n",
      " |      float(self)\n",
      " |\n",
      " |  __floor__(...)\n",
      " |      Flooring an Integral returns itself.\n",
      " |\n",
      " |  __floordiv__(self, value, /)\n",
      " |      Return self//value.\n",
      " |\n",
      " |  __format__(self, format_spec, /)\n",
      " |      Convert to a string according to format_spec.\n",
      " |\n",
      " |  __ge__(self, value, /)\n",
      " |      Return self>=value.\n",
      " |\n",
      " |  __getattribute__(self, name, /)\n",
      " |      Return getattr(self, name).\n",
      " |\n",
      " |  __getnewargs__(self, /)\n",
      " |\n",
      " |  __gt__(self, value, /)\n",
      " |      Return self>value.\n",
      " |\n",
      " |  __hash__(self, /)\n",
      " |      Return hash(self).\n",
      " |\n",
      " |  __index__(self, /)\n",
      " |      Return self converted to an integer, if self is suitable for use as an index into a list.\n",
      " |\n",
      " |  __int__(self, /)\n",
      " |      int(self)\n",
      " |\n",
      " |  __le__(self, value, /)\n",
      " |      Return self<=value.\n",
      " |\n",
      " |  __lshift__(self, value, /)\n",
      " |      Return self<<value.\n",
      " |\n",
      " |  __lt__(self, value, /)\n",
      " |      Return self<value.\n",
      " |\n",
      " |  __mod__(self, value, /)\n",
      " |      Return self%value.\n",
      " |\n",
      " |  __mul__(self, value, /)\n",
      " |      Return self*value.\n",
      " |\n",
      " |  __ne__(self, value, /)\n",
      " |      Return self!=value.\n",
      " |\n",
      " |  __neg__(self, /)\n",
      " |      -self\n",
      " |\n",
      " |  __pos__(self, /)\n",
      " |      +self\n",
      " |\n",
      " |  __pow__(self, value, mod=None, /)\n",
      " |      Return pow(self, value, mod).\n",
      " |\n",
      " |  __radd__(self, value, /)\n",
      " |      Return value+self.\n",
      " |\n",
      " |  __rdivmod__(self, value, /)\n",
      " |      Return divmod(value, self).\n",
      " |\n",
      " |  __rfloordiv__(self, value, /)\n",
      " |      Return value//self.\n",
      " |\n",
      " |  __rlshift__(self, value, /)\n",
      " |      Return value<<self.\n",
      " |\n",
      " |  __rmod__(self, value, /)\n",
      " |      Return value%self.\n",
      " |\n",
      " |  __rmul__(self, value, /)\n",
      " |      Return value*self.\n",
      " |\n",
      " |  __round__(...)\n",
      " |      Rounding an Integral returns itself.\n",
      " |\n",
      " |      Rounding with an ndigits argument also returns an integer.\n",
      " |\n",
      " |  __rpow__(self, value, mod=None, /)\n",
      " |      Return pow(value, self, mod).\n",
      " |\n",
      " |  __rrshift__(self, value, /)\n",
      " |      Return value>>self.\n",
      " |\n",
      " |  __rshift__(self, value, /)\n",
      " |      Return self>>value.\n",
      " |\n",
      " |  __rsub__(self, value, /)\n",
      " |      Return value-self.\n",
      " |\n",
      " |  __rtruediv__(self, value, /)\n",
      " |      Return value/self.\n",
      " |\n",
      " |  __sizeof__(self, /)\n",
      " |      Returns size in memory, in bytes.\n",
      " |\n",
      " |  __sub__(self, value, /)\n",
      " |      Return self-value.\n",
      " |\n",
      " |  __truediv__(self, value, /)\n",
      " |      Return self/value.\n",
      " |\n",
      " |  __trunc__(...)\n",
      " |      Truncating an Integral returns itself.\n",
      " |\n",
      " |  as_integer_ratio(self, /)\n",
      " |      Return a pair of integers, whose ratio is equal to the original int.\n",
      " |\n",
      " |      The ratio is in lowest terms and has a positive denominator.\n",
      " |\n",
      " |      >>> (10).as_integer_ratio()\n",
      " |      (10, 1)\n",
      " |      >>> (-10).as_integer_ratio()\n",
      " |      (-10, 1)\n",
      " |      >>> (0).as_integer_ratio()\n",
      " |      (0, 1)\n",
      " |\n",
      " |  bit_count(self, /)\n",
      " |      Number of ones in the binary representation of the absolute value of self.\n",
      " |\n",
      " |      Also known as the population count.\n",
      " |\n",
      " |      >>> bin(13)\n",
      " |      '0b1101'\n",
      " |      >>> (13).bit_count()\n",
      " |      3\n",
      " |\n",
      " |  bit_length(self, /)\n",
      " |      Number of bits necessary to represent self in binary.\n",
      " |\n",
      " |      >>> bin(37)\n",
      " |      '0b100101'\n",
      " |      >>> (37).bit_length()\n",
      " |      6\n",
      " |\n",
      " |  conjugate(...)\n",
      " |      Returns self, the complex conjugate of any int.\n",
      " |\n",
      " |  is_integer(self, /)\n",
      " |      Returns True. Exists for duck type compatibility with float.is_integer.\n",
      " |\n",
      " |  to_bytes(self, /, length=1, byteorder='big', *, signed=False)\n",
      " |      Return an array of bytes representing an integer.\n",
      " |\n",
      " |      length\n",
      " |        Length of bytes object to use.  An OverflowError is raised if the\n",
      " |        integer is not representable with the given number of bytes.  Default\n",
      " |        is length 1.\n",
      " |      byteorder\n",
      " |        The byte order used to represent the integer.  If byteorder is 'big',\n",
      " |        the most significant byte is at the beginning of the byte array.  If\n",
      " |        byteorder is 'little', the most significant byte is at the end of the\n",
      " |        byte array.  To request the native byte order of the host system, use\n",
      " |        `sys.byteorder' as the byte order value.  Default is to use 'big'.\n",
      " |      signed\n",
      " |        Determines whether two's complement is used to represent the integer.\n",
      " |        If signed is False and a negative integer is given, an OverflowError\n",
      " |        is raised.\n",
      " |\n",
      " |  ----------------------------------------------------------------------\n",
      " |  Class methods inherited from int:\n",
      " |\n",
      " |  from_bytes(bytes, byteorder='big', *, signed=False) from builtins.type\n",
      " |      Return the integer represented by the given array of bytes.\n",
      " |\n",
      " |      bytes\n",
      " |        Holds the array of bytes to convert.  The argument must either\n",
      " |        support the buffer protocol or be an iterable object producing bytes.\n",
      " |        Bytes and bytearray are examples of built-in objects that support the\n",
      " |        buffer protocol.\n",
      " |      byteorder\n",
      " |        The byte order used to represent the integer.  If byteorder is 'big',\n",
      " |        the most significant byte is at the beginning of the byte array.  If\n",
      " |        byteorder is 'little', the most significant byte is at the end of the\n",
      " |        byte array.  To request the native byte order of the host system, use\n",
      " |        `sys.byteorder' as the byte order value.  Default is to use 'big'.\n",
      " |      signed\n",
      " |        Indicates whether two's complement is used to represent the integer.\n",
      " |\n",
      " |  ----------------------------------------------------------------------\n",
      " |  Data descriptors inherited from int:\n",
      " |\n",
      " |  denominator\n",
      " |      the denominator of a rational number in lowest terms\n",
      " |\n",
      " |  imag\n",
      " |      the imaginary part of a complex number\n",
      " |\n",
      " |  numerator\n",
      " |      the numerator of a rational number in lowest terms\n",
      " |\n",
      " |  real\n",
      " |      the real part of a complex number\n",
      "\n"
     ]
    }
   ],
   "source": [
    "help(False)"
   ]
  },
  {
   "cell_type": "code",
   "execution_count": 11,
   "metadata": {},
   "outputs": [
    {
     "data": {
      "text/plain": [
       "['__abs__',\n",
       " '__add__',\n",
       " '__and__',\n",
       " '__bool__',\n",
       " '__ceil__',\n",
       " '__class__',\n",
       " '__delattr__',\n",
       " '__dir__',\n",
       " '__divmod__',\n",
       " '__doc__',\n",
       " '__eq__',\n",
       " '__float__',\n",
       " '__floor__',\n",
       " '__floordiv__',\n",
       " '__format__',\n",
       " '__ge__',\n",
       " '__getattribute__',\n",
       " '__getnewargs__',\n",
       " '__getstate__',\n",
       " '__gt__',\n",
       " '__hash__',\n",
       " '__index__',\n",
       " '__init__',\n",
       " '__init_subclass__',\n",
       " '__int__',\n",
       " '__invert__',\n",
       " '__le__',\n",
       " '__lshift__',\n",
       " '__lt__',\n",
       " '__mod__',\n",
       " '__mul__',\n",
       " '__ne__',\n",
       " '__neg__',\n",
       " '__new__',\n",
       " '__or__',\n",
       " '__pos__',\n",
       " '__pow__',\n",
       " '__radd__',\n",
       " '__rand__',\n",
       " '__rdivmod__',\n",
       " '__reduce__',\n",
       " '__reduce_ex__',\n",
       " '__repr__',\n",
       " '__rfloordiv__',\n",
       " '__rlshift__',\n",
       " '__rmod__',\n",
       " '__rmul__',\n",
       " '__ror__',\n",
       " '__round__',\n",
       " '__rpow__',\n",
       " '__rrshift__',\n",
       " '__rshift__',\n",
       " '__rsub__',\n",
       " '__rtruediv__',\n",
       " '__rxor__',\n",
       " '__setattr__',\n",
       " '__sizeof__',\n",
       " '__str__',\n",
       " '__sub__',\n",
       " '__subclasshook__',\n",
       " '__truediv__',\n",
       " '__trunc__',\n",
       " '__xor__',\n",
       " 'as_integer_ratio',\n",
       " 'bit_count',\n",
       " 'bit_length',\n",
       " 'conjugate',\n",
       " 'denominator',\n",
       " 'from_bytes',\n",
       " 'imag',\n",
       " 'is_integer',\n",
       " 'numerator',\n",
       " 'real',\n",
       " 'to_bytes']"
      ]
     },
     "execution_count": 11,
     "metadata": {},
     "output_type": "execute_result"
    }
   ],
   "source": [
    "dir(False)"
   ]
  },
  {
   "cell_type": "code",
   "execution_count": 12,
   "metadata": {},
   "outputs": [
    {
     "name": "stdout",
     "output_type": "stream",
     "text": [
      "Help on int object:\n",
      "\n",
      "class int(object)\n",
      " |  int([x]) -> integer\n",
      " |  int(x, base=10) -> integer\n",
      " |\n",
      " |  Convert a number or string to an integer, or return 0 if no arguments\n",
      " |  are given.  If x is a number, return x.__int__().  For floating point\n",
      " |  numbers, this truncates towards zero.\n",
      " |\n",
      " |  If x is not a number or if base is given, then x must be a string,\n",
      " |  bytes, or bytearray instance representing an integer literal in the\n",
      " |  given base.  The literal can be preceded by '+' or '-' and be surrounded\n",
      " |  by whitespace.  The base defaults to 10.  Valid bases are 0 and 2-36.\n",
      " |  Base 0 means to interpret the base from the string as an integer literal.\n",
      " |  >>> int('0b100', base=0)\n",
      " |  4\n",
      " |\n",
      " |  Built-in subclasses:\n",
      " |      bool\n",
      " |\n",
      " |  Methods defined here:\n",
      " |\n",
      " |  __abs__(self, /)\n",
      " |      abs(self)\n",
      " |\n",
      " |  __add__(self, value, /)\n",
      " |      Return self+value.\n",
      " |\n",
      " |  __and__(self, value, /)\n",
      " |      Return self&value.\n",
      " |\n",
      " |  __bool__(self, /)\n",
      " |      True if self else False\n",
      " |\n",
      " |  __ceil__(...)\n",
      " |      Ceiling of an Integral returns itself.\n",
      " |\n",
      " |  __divmod__(self, value, /)\n",
      " |      Return divmod(self, value).\n",
      " |\n",
      " |  __eq__(self, value, /)\n",
      " |      Return self==value.\n",
      " |\n",
      " |  __float__(self, /)\n",
      " |      float(self)\n",
      " |\n",
      " |  __floor__(...)\n",
      " |      Flooring an Integral returns itself.\n",
      " |\n",
      " |  __floordiv__(self, value, /)\n",
      " |      Return self//value.\n",
      " |\n",
      " |  __format__(self, format_spec, /)\n",
      " |      Convert to a string according to format_spec.\n",
      " |\n",
      " |  __ge__(self, value, /)\n",
      " |      Return self>=value.\n",
      " |\n",
      " |  __getattribute__(self, name, /)\n",
      " |      Return getattr(self, name).\n",
      " |\n",
      " |  __getnewargs__(self, /)\n",
      " |\n",
      " |  __gt__(self, value, /)\n",
      " |      Return self>value.\n",
      " |\n",
      " |  __hash__(self, /)\n",
      " |      Return hash(self).\n",
      " |\n",
      " |  __index__(self, /)\n",
      " |      Return self converted to an integer, if self is suitable for use as an index into a list.\n",
      " |\n",
      " |  __int__(self, /)\n",
      " |      int(self)\n",
      " |\n",
      " |  __invert__(self, /)\n",
      " |      ~self\n",
      " |\n",
      " |  __le__(self, value, /)\n",
      " |      Return self<=value.\n",
      " |\n",
      " |  __lshift__(self, value, /)\n",
      " |      Return self<<value.\n",
      " |\n",
      " |  __lt__(self, value, /)\n",
      " |      Return self<value.\n",
      " |\n",
      " |  __mod__(self, value, /)\n",
      " |      Return self%value.\n",
      " |\n",
      " |  __mul__(self, value, /)\n",
      " |      Return self*value.\n",
      " |\n",
      " |  __ne__(self, value, /)\n",
      " |      Return self!=value.\n",
      " |\n",
      " |  __neg__(self, /)\n",
      " |      -self\n",
      " |\n",
      " |  __or__(self, value, /)\n",
      " |      Return self|value.\n",
      " |\n",
      " |  __pos__(self, /)\n",
      " |      +self\n",
      " |\n",
      " |  __pow__(self, value, mod=None, /)\n",
      " |      Return pow(self, value, mod).\n",
      " |\n",
      " |  __radd__(self, value, /)\n",
      " |      Return value+self.\n",
      " |\n",
      " |  __rand__(self, value, /)\n",
      " |      Return value&self.\n",
      " |\n",
      " |  __rdivmod__(self, value, /)\n",
      " |      Return divmod(value, self).\n",
      " |\n",
      " |  __repr__(self, /)\n",
      " |      Return repr(self).\n",
      " |\n",
      " |  __rfloordiv__(self, value, /)\n",
      " |      Return value//self.\n",
      " |\n",
      " |  __rlshift__(self, value, /)\n",
      " |      Return value<<self.\n",
      " |\n",
      " |  __rmod__(self, value, /)\n",
      " |      Return value%self.\n",
      " |\n",
      " |  __rmul__(self, value, /)\n",
      " |      Return value*self.\n",
      " |\n",
      " |  __ror__(self, value, /)\n",
      " |      Return value|self.\n",
      " |\n",
      " |  __round__(...)\n",
      " |      Rounding an Integral returns itself.\n",
      " |\n",
      " |      Rounding with an ndigits argument also returns an integer.\n",
      " |\n",
      " |  __rpow__(self, value, mod=None, /)\n",
      " |      Return pow(value, self, mod).\n",
      " |\n",
      " |  __rrshift__(self, value, /)\n",
      " |      Return value>>self.\n",
      " |\n",
      " |  __rshift__(self, value, /)\n",
      " |      Return self>>value.\n",
      " |\n",
      " |  __rsub__(self, value, /)\n",
      " |      Return value-self.\n",
      " |\n",
      " |  __rtruediv__(self, value, /)\n",
      " |      Return value/self.\n",
      " |\n",
      " |  __rxor__(self, value, /)\n",
      " |      Return value^self.\n",
      " |\n",
      " |  __sizeof__(self, /)\n",
      " |      Returns size in memory, in bytes.\n",
      " |\n",
      " |  __sub__(self, value, /)\n",
      " |      Return self-value.\n",
      " |\n",
      " |  __truediv__(self, value, /)\n",
      " |      Return self/value.\n",
      " |\n",
      " |  __trunc__(...)\n",
      " |      Truncating an Integral returns itself.\n",
      " |\n",
      " |  __xor__(self, value, /)\n",
      " |      Return self^value.\n",
      " |\n",
      " |  as_integer_ratio(self, /)\n",
      " |      Return a pair of integers, whose ratio is equal to the original int.\n",
      " |\n",
      " |      The ratio is in lowest terms and has a positive denominator.\n",
      " |\n",
      " |      >>> (10).as_integer_ratio()\n",
      " |      (10, 1)\n",
      " |      >>> (-10).as_integer_ratio()\n",
      " |      (-10, 1)\n",
      " |      >>> (0).as_integer_ratio()\n",
      " |      (0, 1)\n",
      " |\n",
      " |  bit_count(self, /)\n",
      " |      Number of ones in the binary representation of the absolute value of self.\n",
      " |\n",
      " |      Also known as the population count.\n",
      " |\n",
      " |      >>> bin(13)\n",
      " |      '0b1101'\n",
      " |      >>> (13).bit_count()\n",
      " |      3\n",
      " |\n",
      " |  bit_length(self, /)\n",
      " |      Number of bits necessary to represent self in binary.\n",
      " |\n",
      " |      >>> bin(37)\n",
      " |      '0b100101'\n",
      " |      >>> (37).bit_length()\n",
      " |      6\n",
      " |\n",
      " |  conjugate(...)\n",
      " |      Returns self, the complex conjugate of any int.\n",
      " |\n",
      " |  is_integer(self, /)\n",
      " |      Returns True. Exists for duck type compatibility with float.is_integer.\n",
      " |\n",
      " |  to_bytes(self, /, length=1, byteorder='big', *, signed=False)\n",
      " |      Return an array of bytes representing an integer.\n",
      " |\n",
      " |      length\n",
      " |        Length of bytes object to use.  An OverflowError is raised if the\n",
      " |        integer is not representable with the given number of bytes.  Default\n",
      " |        is length 1.\n",
      " |      byteorder\n",
      " |        The byte order used to represent the integer.  If byteorder is 'big',\n",
      " |        the most significant byte is at the beginning of the byte array.  If\n",
      " |        byteorder is 'little', the most significant byte is at the end of the\n",
      " |        byte array.  To request the native byte order of the host system, use\n",
      " |        `sys.byteorder' as the byte order value.  Default is to use 'big'.\n",
      " |      signed\n",
      " |        Determines whether two's complement is used to represent the integer.\n",
      " |        If signed is False and a negative integer is given, an OverflowError\n",
      " |        is raised.\n",
      " |\n",
      " |  ----------------------------------------------------------------------\n",
      " |  Class methods defined here:\n",
      " |\n",
      " |  from_bytes(bytes, byteorder='big', *, signed=False) from builtins.type\n",
      " |      Return the integer represented by the given array of bytes.\n",
      " |\n",
      " |      bytes\n",
      " |        Holds the array of bytes to convert.  The argument must either\n",
      " |        support the buffer protocol or be an iterable object producing bytes.\n",
      " |        Bytes and bytearray are examples of built-in objects that support the\n",
      " |        buffer protocol.\n",
      " |      byteorder\n",
      " |        The byte order used to represent the integer.  If byteorder is 'big',\n",
      " |        the most significant byte is at the beginning of the byte array.  If\n",
      " |        byteorder is 'little', the most significant byte is at the end of the\n",
      " |        byte array.  To request the native byte order of the host system, use\n",
      " |        `sys.byteorder' as the byte order value.  Default is to use 'big'.\n",
      " |      signed\n",
      " |        Indicates whether two's complement is used to represent the integer.\n",
      " |\n",
      " |  ----------------------------------------------------------------------\n",
      " |  Static methods defined here:\n",
      " |\n",
      " |  __new__(*args, **kwargs) from builtins.type\n",
      " |      Create and return a new object.  See help(type) for accurate signature.\n",
      " |\n",
      " |  ----------------------------------------------------------------------\n",
      " |  Data descriptors defined here:\n",
      " |\n",
      " |  denominator\n",
      " |      the denominator of a rational number in lowest terms\n",
      " |\n",
      " |  imag\n",
      " |      the imaginary part of a complex number\n",
      " |\n",
      " |  numerator\n",
      " |      the numerator of a rational number in lowest terms\n",
      " |\n",
      " |  real\n",
      " |      the real part of a complex number\n",
      "\n"
     ]
    }
   ],
   "source": [
    "help(False.imag)"
   ]
  },
  {
   "cell_type": "code",
   "execution_count": 3,
   "metadata": {},
   "outputs": [
    {
     "name": "stdout",
     "output_type": "stream",
     "text": [
      "Swetha loves Books\n"
     ]
    }
   ],
   "source": [
    "if True:\n",
    "    print(\"Swetha loves Books\")\n",
    "else:\n",
    "    print(\"Swetha doesn't loves Books\")"
   ]
  },
  {
   "cell_type": "code",
   "execution_count": 5,
   "metadata": {},
   "outputs": [
    {
     "name": "stdout",
     "output_type": "stream",
     "text": [
      "1\n",
      "2\n",
      "3\n",
      "4\n"
     ]
    }
   ],
   "source": [
    "for i in range(1,5):\n",
    "    print (i)"
   ]
  },
  {
   "cell_type": "code",
   "execution_count": 7,
   "metadata": {},
   "outputs": [
    {
     "name": "stdout",
     "output_type": "stream",
     "text": [
      "1\n",
      "2\n",
      "3\n",
      "4\n",
      "5\n",
      "6\n"
     ]
    }
   ],
   "source": [
    "i=1\n",
    "while i<=6:\n",
    "    print(i)\n",
    "    i += 1"
   ]
  },
  {
   "cell_type": "code",
   "execution_count": 8,
   "metadata": {},
   "outputs": [
    {
     "name": "stdout",
     "output_type": "stream",
     "text": [
      "ZeroDivisionError\n"
     ]
    }
   ],
   "source": [
    "try:\n",
    "    print(6/0)\n",
    "except:\n",
    "    print(\"ZeroDivisionError\")"
   ]
  },
  {
   "cell_type": "code",
   "execution_count": 9,
   "metadata": {},
   "outputs": [
    {
     "name": "stdout",
     "output_type": "stream",
     "text": [
      "Swetha\n"
     ]
    }
   ],
   "source": [
    "def demo():\n",
    "    print(\"Swetha\")\n",
    "demo()"
   ]
  },
  {
   "cell_type": "code",
   "execution_count": 10,
   "metadata": {},
   "outputs": [
    {
     "name": "stdout",
     "output_type": "stream",
     "text": [
      "[1, 4, 9, 16]\n"
     ]
    }
   ],
   "source": [
    "sq=[x**2 for x in range(1,5)]\n",
    "print(sq)"
   ]
  },
  {
   "cell_type": "code",
   "execution_count": 11,
   "metadata": {},
   "outputs": [
    {
     "name": "stdout",
     "output_type": "stream",
     "text": [
      "5.0\n"
     ]
    }
   ],
   "source": [
    "import math\n",
    "print (math.sqrt(25))"
   ]
  },
  {
   "cell_type": "code",
   "execution_count": 13,
   "metadata": {},
   "outputs": [
    {
     "name": "stdout",
     "output_type": "stream",
     "text": [
      "5.0\n"
     ]
    }
   ],
   "source": [
    "import math\n",
    "print(math.sqrt(25))"
   ]
  },
  {
   "cell_type": "code",
   "execution_count": 15,
   "metadata": {},
   "outputs": [
    {
     "name": "stdout",
     "output_type": "stream",
     "text": [
      "['Swetha', 'Sridhar', 'Seenu']\n"
     ]
    }
   ],
   "source": [
    "names=[\"Swetha\",\"Sridhar\",\"Joshua\",\"Seenu\",\"Gati\"]\n",
    "nl=[]\n",
    "\n",
    "for x in names:\n",
    "    if \"S\" in x:\n",
    "        nl.append(x)\n",
    "print (nl)"
   ]
  },
  {
   "cell_type": "code",
   "execution_count": 16,
   "metadata": {},
   "outputs": [
    {
     "name": "stdout",
     "output_type": "stream",
     "text": [
      "Swetha\n",
      "21\n",
      "Mangalore\n",
      "Chennai\n",
      "Indian\n",
      "Black\n",
      "5.2\n",
      "Rx100\n",
      "Books\n",
      "BTS\n"
     ]
    }
   ],
   "source": [
    "dict={\"name\":\"Swetha\",\"age\":21,\"native\":\"Mangalore\",\"city\":\"Chennai\",\n",
    "      \"nationality\":\"Indian\",\"favcolor\":\"Black\",\"height\":5.2,\n",
    "      \"favbike\":\"Rx100\",\"hobby\":\"Books\",\"fav-kpop\":\"BTS\"}\n",
    "for x in dict.values():\n",
    "    print(x)"
   ]
  },
  {
   "cell_type": "code",
   "execution_count": 17,
   "metadata": {},
   "outputs": [
    {
     "name": "stdout",
     "output_type": "stream",
     "text": [
      "('name', 'Swetha')\n",
      "('age', 21)\n",
      "('native', 'Mangalore')\n",
      "('city', 'Chennai')\n",
      "('nationality', 'Indian')\n",
      "('favcolor', 'Black')\n",
      "('height', 5.2)\n",
      "('favbike', 'Rx100')\n",
      "('hobby', 'Books')\n",
      "('fav-kpop', 'BTS')\n"
     ]
    }
   ],
   "source": [
    "dict={\"name\":\"Swetha\",\"age\":21,\"native\":\"Mangalore\",\"city\":\"Chennai\",\n",
    "      \"nationality\":\"Indian\",\"favcolor\":\"Black\",\"height\":5.2,\n",
    "      \"favbike\":\"Rx100\",\"hobby\":\"Books\",\"fav-kpop\":\"BTS\"}\n",
    "for x in dict.items():\n",
    "    print(x)"
   ]
  },
  {
   "cell_type": "code",
   "execution_count": null,
   "metadata": {},
   "outputs": [],
   "source": []
  }
 ],
 "metadata": {
  "kernelspec": {
   "display_name": "venv",
   "language": "python",
   "name": "python3"
  },
  "language_info": {
   "codemirror_mode": {
    "name": "ipython",
    "version": 3
   },
   "file_extension": ".py",
   "mimetype": "text/x-python",
   "name": "python",
   "nbconvert_exporter": "python",
   "pygments_lexer": "ipython3",
   "version": "3.12.0"
  }
 },
 "nbformat": 4,
 "nbformat_minor": 2
}
