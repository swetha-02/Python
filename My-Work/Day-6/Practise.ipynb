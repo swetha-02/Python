{
 "cells": [
  {
   "cell_type": "markdown",
   "metadata": {},
   "source": [
    "GENERATORS"
   ]
  },
  {
   "cell_type": "code",
   "execution_count": 31,
   "metadata": {},
   "outputs": [],
   "source": [
    "def swe(a):\n",
    "    for i in range(1,5):\n",
    "        yield i*i\n",
    "        yield i+i\n",
    "        yield i/i"
   ]
  },
  {
   "cell_type": "code",
   "execution_count": 32,
   "metadata": {},
   "outputs": [],
   "source": [
    "a=swe(5)"
   ]
  },
  {
   "cell_type": "code",
   "execution_count": 33,
   "metadata": {},
   "outputs": [
    {
     "name": "stdout",
     "output_type": "stream",
     "text": [
      "1\n",
      "2\n",
      "1.0\n",
      "4\n",
      "4\n",
      "1.0\n",
      "9\n",
      "6\n",
      "1.0\n",
      "16\n",
      "8\n",
      "1.0\n"
     ]
    }
   ],
   "source": [
    "for i in a:\n",
    "    print(i)"
   ]
  },
  {
   "cell_type": "code",
   "execution_count": 34,
   "metadata": {},
   "outputs": [],
   "source": [
    "def swe(limit):\n",
    "    for i in range(1,limit+1):\n",
    "        yield i*i\n",
    "        yield i+i\n",
    "        yield i/i"
   ]
  },
  {
   "cell_type": "code",
   "execution_count": 35,
   "metadata": {},
   "outputs": [
    {
     "name": "stdout",
     "output_type": "stream",
     "text": [
      "1\n",
      "2\n",
      "1.0\n",
      "4\n",
      "4\n",
      "1.0\n",
      "9\n",
      "6\n",
      "1.0\n",
      "16\n",
      "8\n",
      "1.0\n",
      "25\n",
      "10\n",
      "1.0\n",
      "36\n",
      "12\n",
      "1.0\n",
      "49\n",
      "14\n",
      "1.0\n",
      "64\n",
      "16\n",
      "1.0\n"
     ]
    }
   ],
   "source": [
    "val=swe(8)\n",
    "for j in val:\n",
    "    print(j)"
   ]
  },
  {
   "cell_type": "code",
   "execution_count": 46,
   "metadata": {},
   "outputs": [],
   "source": [
    "def fun():\n",
    "    yield \"Hello\"\n",
    "    yield \"Swetha\""
   ]
  },
  {
   "cell_type": "code",
   "execution_count": 47,
   "metadata": {},
   "outputs": [],
   "source": [
    "res=fun()"
   ]
  },
  {
   "cell_type": "code",
   "execution_count": 48,
   "metadata": {},
   "outputs": [
    {
     "name": "stdout",
     "output_type": "stream",
     "text": [
      "Hello\n"
     ]
    }
   ],
   "source": [
    "print(next(res))\n",
    "\n"
   ]
  },
  {
   "cell_type": "code",
   "execution_count": 49,
   "metadata": {},
   "outputs": [
    {
     "name": "stdout",
     "output_type": "stream",
     "text": [
      "Swetha\n"
     ]
    }
   ],
   "source": [
    "print(next(res))"
   ]
  },
  {
   "cell_type": "code",
   "execution_count": 52,
   "metadata": {},
   "outputs": [],
   "source": [
    "def fun(a):\n",
    "    for i in range(1,6):\n",
    "        yield i*i\n",
    "        yield i+i"
   ]
  },
  {
   "cell_type": "code",
   "execution_count": 53,
   "metadata": {},
   "outputs": [
    {
     "name": "stdout",
     "output_type": "stream",
     "text": [
      "1\n",
      "2\n",
      "4\n",
      "4\n",
      "9\n",
      "6\n",
      "16\n",
      "8\n",
      "25\n",
      "10\n"
     ]
    }
   ],
   "source": [
    "vals=fun(5)\n",
    "for j in vals:\n",
    "    print(j)"
   ]
  },
  {
   "cell_type": "code",
   "execution_count": 56,
   "metadata": {},
   "outputs": [],
   "source": [
    "def even():\n",
    "    num =0\n",
    "    while True:\n",
    "        yield num\n",
    "        num += 1\n",
    "        "
   ]
  },
  {
   "cell_type": "code",
   "execution_count": 57,
   "metadata": {},
   "outputs": [
    {
     "name": "stdout",
     "output_type": "stream",
     "text": [
      "0\n",
      "1\n",
      "2\n",
      "3\n",
      "4\n",
      "5\n",
      "6\n",
      "7\n",
      "8\n",
      "9\n",
      "10\n"
     ]
    }
   ],
   "source": [
    "gen=even()\n",
    "for n in gen:\n",
    "    if n>10:\n",
    "        break\n",
    "    print(n)"
   ]
  },
  {
   "cell_type": "markdown",
   "metadata": {},
   "source": [
    "names_1=['Swetha','Sridhar','Seenu','Gati','Ananya','Akshaya']. Display the names in upercase, lowercase, titlecase and swapcase"
   ]
  },
  {
   "cell_type": "code",
   "execution_count": 143,
   "metadata": {},
   "outputs": [],
   "source": [
    "names_1=[\"Swetha\",\"Sridhar\",\"Seenu\",\"Gati\",\"Ananya\",\"Akshaya\"]\n",
    "\n",
    "def case(names):\n",
    "    for name in names:\n",
    "        yield name.upper()\n",
    "        yield name.lower()\n",
    "        yield name.title()\n",
    "        yield name.swapcase()"
   ]
  },
  {
   "cell_type": "code",
   "execution_count": 144,
   "metadata": {},
   "outputs": [
    {
     "name": "stdout",
     "output_type": "stream",
     "text": [
      "SWETHA\n",
      "swetha\n",
      "Swetha\n",
      "sWETHA\n",
      "SRIDHAR\n",
      "sridhar\n",
      "Sridhar\n",
      "sRIDHAR\n",
      "SEENU\n",
      "seenu\n",
      "Seenu\n",
      "sEENU\n",
      "GATI\n",
      "gati\n",
      "Gati\n",
      "gATI\n",
      "ANANYA\n",
      "ananya\n",
      "Ananya\n",
      "aNANYA\n",
      "AKSHAYA\n",
      "akshaya\n",
      "Akshaya\n",
      "aKSHAYA\n"
     ]
    }
   ],
   "source": [
    "for i in case(names_1):\n",
    "    print(i)"
   ]
  },
  {
   "cell_type": "markdown",
   "metadata": {},
   "source": [
    "Generator methods"
   ]
  },
  {
   "cell_type": "markdown",
   "metadata": {},
   "source": [
    "1. next()"
   ]
  },
  {
   "cell_type": "code",
   "execution_count": 58,
   "metadata": {},
   "outputs": [],
   "source": [
    "import sys"
   ]
  },
  {
   "cell_type": "code",
   "execution_count": 59,
   "metadata": {},
   "outputs": [],
   "source": [
    "def gen(numlist):\n",
    "    start=0\n",
    "    while start<len(numlist):\n",
    "        yield numlist[start:start+5]\n",
    "        start += 5\n",
    "num=[1,2,3,4,5,6,7,8,9,10]"
   ]
  },
  {
   "cell_type": "code",
   "execution_count": 60,
   "metadata": {},
   "outputs": [],
   "source": [
    "gen_z=iter(gen(num))"
   ]
  },
  {
   "cell_type": "code",
   "execution_count": 62,
   "metadata": {},
   "outputs": [
    {
     "name": "stdout",
     "output_type": "stream",
     "text": [
      "First chunk: [6, 7, 8, 9, 10]\n"
     ]
    }
   ],
   "source": [
    "try:\n",
    "    first_chunk=next(gen_z)\n",
    "    print(\"First chunk:\",repr(first_chunk))\n",
    "except StopIteration:\n",
    "    print(\"No elements.\")"
   ]
  },
  {
   "cell_type": "code",
   "execution_count": 69,
   "metadata": {},
   "outputs": [
    {
     "name": "stdout",
     "output_type": "stream",
     "text": [
      "1\n",
      "4\n",
      "9\n",
      "16\n",
      "25\n"
     ]
    }
   ],
   "source": [
    "num=[1,2,3,4,5]\n",
    "a=(x**2 for x in num)\n",
    "print(next(a))\n",
    "print(next(a))\n",
    "print(next(a))\n",
    "print(next(a))\n",
    "print(next(a))"
   ]
  },
  {
   "cell_type": "code",
   "execution_count": 72,
   "metadata": {},
   "outputs": [],
   "source": [
    "names=[\"Swetha\",\"Srinivasan\",\"Gayathri\",\"Sridhar\"]\n",
    "names_iter=iter(names)\n"
   ]
  },
  {
   "cell_type": "code",
   "execution_count": 76,
   "metadata": {},
   "outputs": [
    {
     "name": "stdout",
     "output_type": "stream",
     "text": [
      "Sridhar\n"
     ]
    }
   ],
   "source": [
    "print(next(names_iter))"
   ]
  },
  {
   "cell_type": "code",
   "execution_count": 77,
   "metadata": {},
   "outputs": [],
   "source": [
    "class Person:\n",
    "    name=\"Swetha\"\n",
    "    age=21\n",
    "    city=\"Chennai\""
   ]
  },
  {
   "cell_type": "code",
   "execution_count": 82,
   "metadata": {},
   "outputs": [],
   "source": [
    "x=getattr(Person,'name')"
   ]
  },
  {
   "cell_type": "code",
   "execution_count": 83,
   "metadata": {},
   "outputs": [
    {
     "name": "stdout",
     "output_type": "stream",
     "text": [
      "Swetha\n"
     ]
    }
   ],
   "source": [
    "print(x)"
   ]
  },
  {
   "cell_type": "markdown",
   "metadata": {},
   "source": [
    "DECORATORS"
   ]
  },
  {
   "cell_type": "code",
   "execution_count": 84,
   "metadata": {},
   "outputs": [],
   "source": [
    "def f1(func):\n",
    "    def wrapper():\n",
    "        print(\"Start\")\n",
    "        func()\n",
    "        print(\"End\")\n",
    "    return wrapper\n",
    "\n",
    "    "
   ]
  },
  {
   "cell_type": "code",
   "execution_count": 85,
   "metadata": {},
   "outputs": [],
   "source": [
    "def f():\n",
    "    print(\"Hello\")"
   ]
  },
  {
   "cell_type": "code",
   "execution_count": 86,
   "metadata": {},
   "outputs": [
    {
     "name": "stdout",
     "output_type": "stream",
     "text": [
      "Start\n",
      "Hello\n",
      "End\n"
     ]
    }
   ],
   "source": [
    "a=f1(f)\n",
    "a()"
   ]
  },
  {
   "cell_type": "code",
   "execution_count": 87,
   "metadata": {},
   "outputs": [],
   "source": [
    "def f1(func):\n",
    "    def wrapper():\n",
    "        print(\"Start\")\n",
    "        func()\n",
    "        print(\"End\")\n",
    "    return wrapper\n"
   ]
  },
  {
   "cell_type": "code",
   "execution_count": 88,
   "metadata": {},
   "outputs": [],
   "source": [
    "@f1\n",
    "def f():\n",
    "    print(\"Hello\")"
   ]
  },
  {
   "cell_type": "code",
   "execution_count": 89,
   "metadata": {},
   "outputs": [
    {
     "name": "stdout",
     "output_type": "stream",
     "text": [
      "Start\n",
      "Hello\n",
      "End\n"
     ]
    }
   ],
   "source": [
    "f()"
   ]
  },
  {
   "cell_type": "markdown",
   "metadata": {},
   "source": [
    "Decorators example"
   ]
  },
  {
   "cell_type": "code",
   "execution_count": 100,
   "metadata": {},
   "outputs": [],
   "source": [
    "def sub(func):\n",
    "    def wrapper(num1,num2):\n",
    "        if num1>=num2:\n",
    "            result=func(num1,num2)\n",
    "        else:\n",
    "            result=func(num2,num1)\n",
    "        return result\n",
    "    return wrapper"
   ]
  },
  {
   "cell_type": "code",
   "execution_count": 101,
   "metadata": {},
   "outputs": [
    {
     "name": "stdout",
     "output_type": "stream",
     "text": [
      "4\n",
      "2\n"
     ]
    }
   ],
   "source": [
    "@sub\n",
    "def sub(num1,num2):\n",
    "    return num1-num2\n",
    "\n",
    "print(sub(4,8))\n",
    "print(sub(10,8))"
   ]
  },
  {
   "cell_type": "code",
   "execution_count": 127,
   "metadata": {},
   "outputs": [],
   "source": [
    "def bold(func):\n",
    "    def wrapper(text):\n",
    "        print(\"Swetha\")\n",
    "    return wrapper"
   ]
  },
  {
   "cell_type": "code",
   "execution_count": 128,
   "metadata": {},
   "outputs": [],
   "source": [
    "@bold\n",
    "def bold(name):\n",
    "    return name"
   ]
  },
  {
   "cell_type": "code",
   "execution_count": 105,
   "metadata": {},
   "outputs": [],
   "source": [
    "def demo(func):\n",
    "    def wrapper():\n",
    "        print(\"Swetha\")\n",
    "        func()\n",
    "        print(\"Srinivasan\")\n",
    "    return wrapper"
   ]
  },
  {
   "cell_type": "code",
   "execution_count": 106,
   "metadata": {},
   "outputs": [],
   "source": [
    "@demo\n",
    "def f():\n",
    "    print(\"Swetha Srinivasan\")\n"
   ]
  },
  {
   "cell_type": "code",
   "execution_count": 107,
   "metadata": {},
   "outputs": [
    {
     "name": "stdout",
     "output_type": "stream",
     "text": [
      "Swetha\n",
      "Swetha Srinivasan\n",
      "Srinivasan\n"
     ]
    }
   ],
   "source": [
    "f()"
   ]
  },
  {
   "cell_type": "markdown",
   "metadata": {},
   "source": [
    "Write a decorator for finding a value zero or not"
   ]
  },
  {
   "cell_type": "code",
   "execution_count": 138,
   "metadata": {},
   "outputs": [],
   "source": [
    "def zero(func):\n",
    "    def wrapper(val):\n",
    "        if func(val==0):\n",
    "            print(\"Value is zero\")\n",
    "        else:\n",
    "            print(\"Value is not zero\")\n",
    "    return wrapper"
   ]
  },
  {
   "cell_type": "code",
   "execution_count": 139,
   "metadata": {},
   "outputs": [],
   "source": [
    "@zero\n",
    "def zero(val):\n",
    "    return val"
   ]
  },
  {
   "cell_type": "code",
   "execution_count": 142,
   "metadata": {},
   "outputs": [
    {
     "name": "stdout",
     "output_type": "stream",
     "text": [
      "Value is zero\n"
     ]
    }
   ],
   "source": [
    "zero(0)"
   ]
  },
  {
   "cell_type": "markdown",
   "metadata": {},
   "source": [
    "Get two numbers from the users check whether the numbers are multipes"
   ]
  },
  {
   "cell_type": "code",
   "execution_count": 167,
   "metadata": {},
   "outputs": [],
   "source": [
    "def multiples(func):\n",
    "    def wrapper(num1,num2):\n",
    "        if num1%num2==0 or num2%num1==0:\n",
    "            print(\"Both the numbers are multiples of each other\")\n",
    "        else:\n",
    "            print(\"Both the numbers are not multiples of each other\")\n",
    "    return wrapper"
   ]
  },
  {
   "cell_type": "code",
   "execution_count": 168,
   "metadata": {},
   "outputs": [],
   "source": [
    "@multiples\n",
    "def mul(num1,num2):\n",
    "    num1=int(input(\"Enter num1:\"))\n",
    "    num2=int(input(\"Enter num2:\"))\n",
    "    return num1,num2"
   ]
  },
  {
   "cell_type": "code",
   "execution_count": 169,
   "metadata": {},
   "outputs": [
    {
     "name": "stdout",
     "output_type": "stream",
     "text": [
      "Both the numbers are multiples of each other\n"
     ]
    }
   ],
   "source": [
    "mul(num1,num2)"
   ]
  },
  {
   "cell_type": "code",
   "execution_count": 51,
   "metadata": {},
   "outputs": [],
   "source": [
    "def comp(func):\n",
    "    def wrapper(val1,val2):\n",
    "        if (val1>val2):\n",
    "            print(f\"The {val1} is greater than {val2}\")\n",
    "        else:\n",
    "            print(f\"The {val1} is not greater than {val2}\")\n",
    "        # return func(val1,val2)\n",
    "    return wrapper"
   ]
  },
  {
   "cell_type": "code",
   "execution_count": 52,
   "metadata": {},
   "outputs": [],
   "source": [
    "@comp\n",
    "def comp(val1,val2):\n",
    "    return val1,val2\n"
   ]
  },
  {
   "cell_type": "code",
   "execution_count": 53,
   "metadata": {},
   "outputs": [
    {
     "name": "stdout",
     "output_type": "stream",
     "text": [
      "The 23 is not greater than 56\n"
     ]
    }
   ],
   "source": [
    "comp(val1=23,val2=56)"
   ]
  },
  {
   "cell_type": "markdown",
   "metadata": {},
   "source": [
    "ARRAY"
   ]
  },
  {
   "cell_type": "code",
   "execution_count": 2,
   "metadata": {},
   "outputs": [],
   "source": [
    "import array"
   ]
  },
  {
   "cell_type": "code",
   "execution_count": 56,
   "metadata": {},
   "outputs": [],
   "source": [
    "integer=array.array('i',[1,2,3,4,5])\n",
    "flot=array.array('f',[1.2,2.3,4.5,6.8])\n",
    "unicode=array.array('u',['\\u0984','\\u885B','\\u007B'])\n"
   ]
  },
  {
   "cell_type": "code",
   "execution_count": 57,
   "metadata": {},
   "outputs": [
    {
     "name": "stdout",
     "output_type": "stream",
     "text": [
      "array('i', [1, 2, 3, 4, 5]) <class 'array.array'>\n",
      "array('f', [1.2000000476837158, 2.299999952316284, 4.5, 6.800000190734863]) <class 'array.array'>\n",
      "array('u', '\\u0984衛{') <class 'array.array'>\n"
     ]
    }
   ],
   "source": [
    "print(integer,type(integer))\n",
    "print(flot,type(flot))\n",
    "print(unicode,type(unicode))"
   ]
  },
  {
   "cell_type": "code",
   "execution_count": 58,
   "metadata": {},
   "outputs": [
    {
     "name": "stdout",
     "output_type": "stream",
     "text": [
      "1\n",
      "2\n",
      "3\n",
      "45\n",
      "5\n"
     ]
    }
   ],
   "source": [
    "int1=array.array('i',[1,2,3,45,5])\n",
    "for a in int1:\n",
    "    print(a)"
   ]
  },
  {
   "cell_type": "markdown",
   "metadata": {},
   "source": [
    "1. Create a 2 foating arrays"
   ]
  },
  {
   "cell_type": "code",
   "execution_count": 4,
   "metadata": {},
   "outputs": [
    {
     "name": "stdout",
     "output_type": "stream",
     "text": [
      "array('f', [1.100000023841858, 2.200000047683716, 3.299999952316284])\n",
      "array('f', [1.899999976158142, 6.800000190734863, 9.0])\n"
     ]
    }
   ],
   "source": [
    "float1=array.array('f',[1.1,2.2,3.3])\n",
    "float2=array.array('f',[1.9,6.8,9.0])\n",
    "print(float1)\n",
    "print(float2)"
   ]
  },
  {
   "cell_type": "markdown",
   "metadata": {},
   "source": [
    "2. Add 5 individual elements to the 2 floating arrays"
   ]
  },
  {
   "cell_type": "code",
   "execution_count": 63,
   "metadata": {},
   "outputs": [
    {
     "name": "stdout",
     "output_type": "stream",
     "text": [
      "array('f', [1.100000023841858, 2.200000047683716, 3.299999952316284, 1.2999999523162842, 1.2999999523162842, 1.2999999523162842])\n"
     ]
    }
   ],
   "source": [
    "float1.append(1.3)\n",
    "print(float1)"
   ]
  },
  {
   "cell_type": "code",
   "execution_count": 64,
   "metadata": {},
   "outputs": [],
   "source": [
    "float2.insert(3,7.5)"
   ]
  },
  {
   "cell_type": "code",
   "execution_count": 65,
   "metadata": {},
   "outputs": [
    {
     "name": "stdout",
     "output_type": "stream",
     "text": [
      "array('f', [1.899999976158142, 6.800000190734863, 9.0, 7.5])\n"
     ]
    }
   ],
   "source": [
    "print(float2)"
   ]
  },
  {
   "cell_type": "markdown",
   "metadata": {},
   "source": [
    "3. Add two lists with the floating values and display the results"
   ]
  },
  {
   "cell_type": "code",
   "execution_count": 6,
   "metadata": {},
   "outputs": [
    {
     "name": "stdout",
     "output_type": "stream",
     "text": [
      "[1.100000023841858, 3.5999999046325684, 7.800000190734863, 6.5]\n",
      "[2.200000047683716, 7.5, 8.899999618530273, 6.699999809265137]\n"
     ]
    }
   ],
   "source": [
    "demo=array.array('f',[1.1,3.6,7.8,6.5])\n",
    "demo1=array.array('f',[2.2,7.5,8.9,6.7])\n",
    "\n",
    "print(demo.tolist())\n",
    "print(demo1.tolist())\n",
    "\n",
    "\n"
   ]
  },
  {
   "cell_type": "code",
   "execution_count": 8,
   "metadata": {},
   "outputs": [
    {
     "name": "stdout",
     "output_type": "stream",
     "text": [
      "array('f', [1.100000023841858, 2.200000047683716, 3.299999952316284, 1.100000023841858, 3.5999999046325684, 7.800000190734863, 6.5, 1.100000023841858, 3.5999999046325684, 7.800000190734863, 6.5, 1.100000023841858, 3.5999999046325684, 7.800000190734863, 6.5, 1.100000023841858, 3.5999999046325684, 7.800000190734863, 6.5])\n"
     ]
    }
   ],
   "source": [
    "float1.extend(demo)\n",
    "print(float1)"
   ]
  },
  {
   "cell_type": "code",
   "execution_count": 9,
   "metadata": {},
   "outputs": [
    {
     "name": "stdout",
     "output_type": "stream",
     "text": [
      "array('f', [1.899999976158142, 6.800000190734863, 9.0, 2.200000047683716, 7.5, 8.899999618530273, 6.699999809265137])\n"
     ]
    }
   ],
   "source": [
    "float2.extend(demo1)\n",
    "print(float2)"
   ]
  },
  {
   "cell_type": "markdown",
   "metadata": {},
   "source": [
    "4. Find the position of an element in the array"
   ]
  },
  {
   "cell_type": "code",
   "execution_count": 110,
   "metadata": {},
   "outputs": [
    {
     "name": "stdout",
     "output_type": "stream",
     "text": [
      "0\n"
     ]
    }
   ],
   "source": [
    "swe=array.array('f',[1.1,3.6,7.8,6.5])\n",
    "\n",
    "try:\n",
    "    print(swe.index(1.100000023841858))\n",
    "except ValueError as ve:\n",
    "    print(\"No value found\")"
   ]
  },
  {
   "cell_type": "markdown",
   "metadata": {},
   "source": [
    "5. Delete a particular element in the array"
   ]
  },
  {
   "cell_type": "code",
   "execution_count": 88,
   "metadata": {},
   "outputs": [],
   "source": [
    "integer=array.array('i',[1,2,3,4,5])\n",
    "try:\n",
    "    integer.remove(3)\n",
    "except ValueError:\n",
    "    print(ValueError)"
   ]
  },
  {
   "cell_type": "code",
   "execution_count": 89,
   "metadata": {},
   "outputs": [
    {
     "name": "stdout",
     "output_type": "stream",
     "text": [
      "array('i', [1, 2, 4, 5])\n"
     ]
    }
   ],
   "source": [
    "print(integer)"
   ]
  },
  {
   "cell_type": "markdown",
   "metadata": {},
   "source": [
    "6. Using loop and len method empty an array "
   ]
  },
  {
   "cell_type": "code",
   "execution_count": 102,
   "metadata": {},
   "outputs": [],
   "source": [
    "integer1=array.array('i',[1,3,5,7,9])\n",
    "for i in range(len(integer1)):\n",
    "    empty=integer1.pop()\n"
   ]
  },
  {
   "cell_type": "code",
   "execution_count": 103,
   "metadata": {},
   "outputs": [
    {
     "name": "stdout",
     "output_type": "stream",
     "text": [
      "array('i')\n"
     ]
    }
   ],
   "source": [
    "print(integer1)"
   ]
  },
  {
   "cell_type": "markdown",
   "metadata": {},
   "source": [
    "7.Append"
   ]
  },
  {
   "cell_type": "code",
   "execution_count": 111,
   "metadata": {},
   "outputs": [
    {
     "name": "stdout",
     "output_type": "stream",
     "text": [
      "array('i', [1, 3, 5, 7, 9, 3])\n"
     ]
    }
   ],
   "source": [
    "integer1=array.array('i',[1,3,5,7,9])\n",
    "integer1.append(3)\n",
    "print(integer1)"
   ]
  },
  {
   "cell_type": "markdown",
   "metadata": {},
   "source": [
    "8.POP"
   ]
  },
  {
   "cell_type": "code",
   "execution_count": 112,
   "metadata": {},
   "outputs": [
    {
     "name": "stdout",
     "output_type": "stream",
     "text": [
      "array('i', [1, 3, 5, 7])\n"
     ]
    }
   ],
   "source": [
    "integer1=array.array('i',[1,3,5,7,9])\n",
    "remove=integer1.pop()\n",
    "print(integer1)"
   ]
  },
  {
   "cell_type": "code",
   "execution_count": 113,
   "metadata": {},
   "outputs": [
    {
     "name": "stdout",
     "output_type": "stream",
     "text": [
      "2.4\n"
     ]
    }
   ],
   "source": [
    "num1=12\n",
    "num2=5\n",
    "div=num1/num2\n",
    "print(div)"
   ]
  },
  {
   "cell_type": "code",
   "execution_count": 114,
   "metadata": {},
   "outputs": [
    {
     "name": "stdout",
     "output_type": "stream",
     "text": [
      "2\n"
     ]
    }
   ],
   "source": [
    "num1=12\n",
    "num2=5\n",
    "div=num1//num2\n",
    "print(div)"
   ]
  },
  {
   "cell_type": "code",
   "execution_count": 115,
   "metadata": {},
   "outputs": [
    {
     "name": "stdout",
     "output_type": "stream",
     "text": [
      "1\n",
      "2\n",
      "3\n",
      "4\n",
      "Loop over\n"
     ]
    }
   ],
   "source": [
    "for i in range(1,5):\n",
    "    print(i)\n",
    "else:\n",
    "    print(\"Loop over\")"
   ]
  },
  {
   "cell_type": "code",
   "execution_count": null,
   "metadata": {},
   "outputs": [],
   "source": []
  }
 ],
 "metadata": {
  "kernelspec": {
   "display_name": "venv",
   "language": "python",
   "name": "python3"
  },
  "language_info": {
   "codemirror_mode": {
    "name": "ipython",
    "version": 3
   },
   "file_extension": ".py",
   "mimetype": "text/x-python",
   "name": "python",
   "nbconvert_exporter": "python",
   "pygments_lexer": "ipython3",
   "version": "3.12.0"
  }
 },
 "nbformat": 4,
 "nbformat_minor": 2
}
